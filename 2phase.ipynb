{
 "cells": [
  {
   "cell_type": "markdown",
   "metadata": {},
   "source": [
    "# Двухфазная фильтрация"
   ]
  },
  {
   "cell_type": "markdown",
   "metadata": {},
   "source": [
    "## Несжимаемая жидкость"
   ]
  },
  {
   "cell_type": "markdown",
   "metadata": {},
   "source": [
    "### Уравнения"
   ]
  },
  {
   "cell_type": "markdown",
   "metadata": {},
   "source": [
    "Уравнения неразрывности и движения для двухфазного потока в неупругой пористой среде\n",
    "$$ \\begin{cases}\n",
    "\\frac{\\partial S}{\\partial t} + \\nabla \\cdot (S \\vec{u}) = 0 \\\\\n",
    "\\frac{\\partial (1 - S)}{\\partial t} + \\nabla \\cdot \\left( \\left(1 - S \\right) \\vec{v} \\right) = 0 \\\\\n",
    "\\vec{u} = -\\frac{k}{\\mu_1} k^*_1(S) \\nabla P \\\\\n",
    "\\vec{v} = -\\frac{k}{\\mu_2} k^*_2(S) \\nabla P \\\\\n",
    "\\end{cases} $$\n",
    "\n",
    "где $S$ - насыщенность пористой среды 1-й фазой"
   ]
  },
  {
   "cell_type": "markdown",
   "metadata": {},
   "source": [
    "$$ \\begin{cases}\n",
    "\\frac{\\partial S}{\\partial t} + \\nabla \\cdot (S \\vec{u}) = 0 \\\\\n",
    "\\nabla \\cdot (S \\vec{u}) + \\nabla \\cdot \\left( \\left(1 - S \\right) \\vec{v} \\right) = 0 \\\\\n",
    "\\vec{u} = -\\frac{k}{\\mu_1} k^*_1(S) \\nabla P \\\\\n",
    "\\vec{v} = -\\frac{k}{\\mu_2} k^*_2(S) \\nabla P \\\\\n",
    "\\end{cases} $$"
   ]
  },
  {
   "cell_type": "markdown",
   "metadata": {},
   "source": [
    "Принимая поток одномерным, получим\n",
    "\n",
    "$$ \\begin{cases}\n",
    "\\frac{\\partial S}{\\partial t} + \\frac{\\partial S u}{\\partial x} = 0 \\\\\n",
    "\\frac{\\partial S u}{\\partial x} + \\frac{\\partial (1 - S) v}{\\partial x} = 0 \\\\\n",
    "u = -\\frac{k}{\\mu_1} k^*_1(S) \\frac{\\partial P}{\\partial x} \\\\\n",
    "v = -\\frac{k}{\\mu_2} k^*_2(S) \\frac{\\partial P}{\\partial x} \\\\\n",
    "\\end{cases} $$"
   ]
  },
  {
   "cell_type": "markdown",
   "metadata": {},
   "source": [
    "Подставляя уравнения движения в уравнения неразрывности, получим\n",
    "\n",
    "$$ \\begin{cases}\n",
    "\\frac{\\partial S}{\\partial t} - \\frac{k}{\\mu_1} \\frac{\\partial}{\\partial x} \\left( k^*_1(S) S \\frac{\\partial P}{\\partial x} \\right) = 0 \\\\\n",
    "\n",
    "\\frac{1}{\\mu_1} \\frac{\\partial}{\\partial x} \\left(k^*_1(S) S \\frac{\\partial P}{\\partial x} \\right) + \n",
    "\\frac{1}{\\mu_2} \\frac{\\partial}{\\partial x} \\left( (1 - S)  k^*_2(S) \\frac{\\partial P}{\\partial x} \\right)\n",
    "= 0 \\\\\n",
    "\\end{cases} \\Leftrightarrow $$\n",
    "\n",
    "$$ \\Leftrightarrow \\begin{cases}\n",
    "\\frac{\\partial S}{\\partial t} - \n",
    "\\frac{k}{\\mu_1} \\left[ k^*_1(S) S \\frac{\\partial^2 P}{\\partial x^2} + \n",
    "\\frac{\\partial P}{\\partial x} \\left( S \\frac{\\partial k^*_1(S) }{\\partial x} + k^*_1(S) \\frac{\\partial S}{\\partial x} \\right) \\right] = 0 \\\\\n",
    "\n",
    "\\frac{1}{\\mu_1} \\left[ k^*_1(S) S \\frac{\\partial^2 P}{\\partial x^2} + \n",
    "\\frac{\\partial P}{\\partial x} \\left( S \\frac{\\partial k^*_1(S) }{\\partial x} + k^*_1(S) \\frac{\\partial S}{\\partial x} \\right) \\right] + \n",
    "\\frac{1}{\\mu_2} \\left[ (1 - S) k_2^*(S) \\frac{\\partial^2 P}{\\partial x^2} +\n",
    "\\frac{\\partial P}{\\partial x} \\left( (1 - S) \\frac{\\partial k_2^*(S)}{\\partial x} -\n",
    "k_2^*(S) \\frac{\\partial S}{\\partial x} \\right) \\right]\n",
    "= 0 \\\\\n",
    "\\end{cases} \\Leftrightarrow $$\n",
    "\n",
    "$$ \\Leftrightarrow \\begin{cases}\n",
    "\\frac{\\partial S}{\\partial t} - \\frac{k}{\\mu_1} \\left[\n",
    "\\frac{\\partial^2 P}{\\partial x^2}  k^*_1(S) S  +\n",
    "\\frac{\\partial P}{\\partial x} \\left( S \\frac{\\partial k^*_1(S) }{\\partial x} + k^*_1(S) \\frac{\\partial S}{\\partial x} \\right) \\right]  = 0 \\\\\n",
    "\n",
    "\\frac{\\partial^2 P}{\\partial x^2} \n",
    "    \\left[ \\frac{k^*_1(S)}{\\mu_1}  S  + \\frac{k_2^*(S)}{\\mu_2}  (1 - S) \\right] +\n",
    "\\frac{\\partial P}{\\partial x} \n",
    "    \\left[ \n",
    "        \\frac{1}{\\mu_1} \\left( S \\frac{\\partial k^*_1(S) }{\\partial x} + k^*_1(S) \\frac{\\partial S}{\\partial x} \\right) \n",
    "        +\n",
    "        \\frac{1}{\\mu_2} \\left( (1 - S) \\frac{\\partial k_2^*(S)}{\\partial x} - k_2^*(S) \\frac{\\partial S}{\\partial x} \\right) \n",
    "    \\right]\n",
    "= 0 \\\\\n",
    "\\end{cases} $$\n",
    "\n",
    "Тут можно попробовать расписать в конечных разностях с $\\sigma$ и решать итерационно, но я пойду по пути нахождения явным методом $S$ и неявным $P$ с известным полем насыщенности."
   ]
  },
  {
   "cell_type": "markdown",
   "metadata": {},
   "source": [
    "### Численное решение"
   ]
  },
  {
   "cell_type": "markdown",
   "metadata": {},
   "source": [
    "Пусть область изменения аргументов $(x, t)$ есть прямоугольник $\\bar{Д} = (0 ≤ x ≤ L, 0 ≤ t ≤ T)$. Построим на отрезке 0 ≤ x ≤ L сетку $\\bar{\\omega}_h = \\{ x_i = ih,\\, i=0,1,...,N \\}$. Множество узлов $(x_i, t_n)$ с координатами $x_i = ih$ и $t_n = n\\tau$ назовем сеткой в прямоугольнике $\\bar{Д}$ и обозначим $\\bar{\\omega}_{h\\tau} = \\{ (x_i = ih, t_n = n\\tau),\\, i = 0,1,...,N, \\, n = 0,1,...,N_0 \\} $"
   ]
  },
  {
   "cell_type": "markdown",
   "metadata": {},
   "source": [
    "$$\n",
    "\\frac{S_{i}^{n+1} - S_{i}^{n}}{\\tau} - \n",
    "\\frac{k}{h^2 \\mu_1} \\left[ k^*_1(S^{n}_{i}) S^{n}_{i} (P^{n}_{i-1} - 2  P^{n}_{i} + P^{n}_{i+1})  -\n",
    "(P^{n}_{i} - P^{n}_{i-1} ) \\left( S^{n}_{i} (k^*_1(S_{i}^{n}) - k^*_1(S_{i-1}^{n}) ) + k^*_1(S_{i}^{n}) (S_{i}^{n} - S_{i-1}^{n}) \\right) \\right]  = 0 \\\\\n",
    "$$\n",
    "\n",
    "$$\n",
    "S_{i}^{n+1} = S_{i}^{n} + \n",
    "\\frac{k \\tau}{\\mu_1 h^2 } \\left[ k^*_1(S^{n}_{i}) S^{n}_{i} \\{ P^{n}_{i-1} - 2  P^{n}_{i} + P^{n}_{i+1} \\}  -\n",
    "\\{ P^{n}_{i} - P^{n}_{i-1} \\} \\{ S^{n}_{i} (k^*_1(S_{i}^{n}) - k^*_1(S_{i-1}^{n}) ) + k^*_1(S_{i}^{n}) (S_{i}^{n} - S_{i-1}^{n}) \\} \\right] \\\\\n",
    "$$"
   ]
  },
  {
   "cell_type": "code",
   "execution_count": 4,
   "metadata": {},
   "outputs": [],
   "source": [
    "import numpy as np\n",
    "import matplotlib.pyplot as plt\n",
    "from matplotlib.pyplot import figure\n",
    "import SLAU\n",
    "\n",
    "def k1(S):\n",
    "    return (S - 1)**2\n",
    "\n",
    "def k2(S):\n",
    "    return S*S"
   ]
  },
  {
   "cell_type": "code",
   "execution_count": 10,
   "metadata": {},
   "outputs": [],
   "source": [
    "# Хар-ки породы\n",
    "k = 0.5 * 10**(-12)\n",
    "\n",
    "# Флюидов\n",
    "mu1 = 2 * 10**(-3)\n",
    "mu2 = 3 * 10**(-3)\n",
    "\n",
    "# Длина расчетной области\n",
    "L = 1\n",
    "T = 0.01\n",
    "\n",
    "# Кол-во узловых точек\n",
    "N = 10\n",
    "N0 = 15\n",
    "\n",
    "# Граничные условия (начало и конец расчетной области)\n",
    "P0 = 2 * 10**6\n",
    "Pn = 1 * 10**6\n",
    "S0 = 1\n",
    "Sn = 0.2"
   ]
  },
  {
   "cell_type": "code",
   "execution_count": 11,
   "metadata": {},
   "outputs": [
    {
     "data": {
      "text/plain": [
       "array([[2000000., 1000000., 1000000., 1000000., 1000000., 1000000.,\n",
       "        1000000., 1000000., 1000000., 1000000.],\n",
       "       [2000000.,       0.,       0.,       0.,       0.,       0.,\n",
       "              0.,       0.,       0., 1000000.],\n",
       "       [2000000.,       0.,       0.,       0.,       0.,       0.,\n",
       "              0.,       0.,       0., 1000000.],\n",
       "       [2000000.,       0.,       0.,       0.,       0.,       0.,\n",
       "              0.,       0.,       0., 1000000.],\n",
       "       [2000000.,       0.,       0.,       0.,       0.,       0.,\n",
       "              0.,       0.,       0., 1000000.],\n",
       "       [2000000.,       0.,       0.,       0.,       0.,       0.,\n",
       "              0.,       0.,       0., 1000000.],\n",
       "       [2000000.,       0.,       0.,       0.,       0.,       0.,\n",
       "              0.,       0.,       0., 1000000.],\n",
       "       [2000000.,       0.,       0.,       0.,       0.,       0.,\n",
       "              0.,       0.,       0., 1000000.],\n",
       "       [2000000.,       0.,       0.,       0.,       0.,       0.,\n",
       "              0.,       0.,       0., 1000000.],\n",
       "       [2000000.,       0.,       0.,       0.,       0.,       0.,\n",
       "              0.,       0.,       0., 1000000.],\n",
       "       [2000000.,       0.,       0.,       0.,       0.,       0.,\n",
       "              0.,       0.,       0., 1000000.],\n",
       "       [2000000.,       0.,       0.,       0.,       0.,       0.,\n",
       "              0.,       0.,       0., 1000000.],\n",
       "       [2000000.,       0.,       0.,       0.,       0.,       0.,\n",
       "              0.,       0.,       0., 1000000.],\n",
       "       [2000000.,       0.,       0.,       0.,       0.,       0.,\n",
       "              0.,       0.,       0., 1000000.],\n",
       "       [2000000.,       0.,       0.,       0.,       0.,       0.,\n",
       "              0.,       0.,       0., 1000000.]])"
      ]
     },
     "execution_count": 11,
     "metadata": {},
     "output_type": "execute_result"
    }
   ],
   "source": [
    "P = np.zeros([N0, N])\n",
    "P[0, :] = Pn\n",
    "P[:, 0] = P0\n",
    "P[:, -1] = Pn\n",
    "\n",
    "S = np.zeros([N0, N])\n",
    "S[0, :] = Sn\n",
    "S[:, 0] = S0\n",
    "S[:, -1] = Sn\n",
    "\n",
    "tau = T / (N0 - 1)\n",
    "h = L / (N - 1)\n",
    "\n",
    "P"
   ]
  },
  {
   "cell_type": "code",
   "execution_count": 12,
   "metadata": {},
   "outputs": [
    {
     "data": {
      "image/png": "[encoded data removed]",
      "text/plain": [
       "<Figure size 400x300 with 1 Axes>"
      ]
     },
     "metadata": {},
     "output_type": "display_data"
    }
   ],
   "source": [
    "# визуал ОФП\n",
    "figure(figsize=(4, 3), dpi=100)\n",
    "s = np.arange(0, 1.01, 0.01)\n",
    "plt.plot(s, [k1(i) for i in s], s, [k2(i) for i in s])\n",
    "plt.title(\"ОФП\")\n",
    "plt.grid(True)\n",
    "plt.show()"
   ]
  },
  {
   "cell_type": "code",
   "execution_count": 13,
   "metadata": {},
   "outputs": [
    {
     "ename": "NameError",
     "evalue": "name 'quit' is not defined",
     "output_type": "error",
     "traceback": [
      "\u001b[0;31m---------------------------------------------------------------------------\u001b[0m",
      "\u001b[0;31mNameError\u001b[0m                                 Traceback (most recent call last)",
      "Cell \u001b[0;32mIn[13], line 32\u001b[0m\n\u001b[1;32m     29\u001b[0m         f[\u001b[38;5;241m-\u001b[39m\u001b[38;5;241m1\u001b[39m] \u001b[38;5;241m=\u001b[39m (\u001b[38;5;241m2\u001b[39m \u001b[38;5;241m*\u001b[39m skbka1 \u001b[38;5;241m+\u001b[39m skbka2) \u001b[38;5;241m*\u001b[39m P[n, \u001b[38;5;241m-\u001b[39m\u001b[38;5;241m1\u001b[39m]\n\u001b[1;32m     31\u001b[0m \u001b[38;5;66;03m# print(a, b, c, f)\u001b[39;00m\n\u001b[0;32m---> 32\u001b[0m p \u001b[38;5;241m=\u001b[39m \u001b[43mSLAU\u001b[49m\u001b[38;5;241;43m.\u001b[39;49m\u001b[43mtridiagonal_solve\u001b[49m\u001b[43m(\u001b[49m\u001b[43ma\u001b[49m\u001b[43m,\u001b[49m\u001b[43m \u001b[49m\u001b[43mb\u001b[49m\u001b[43m,\u001b[49m\u001b[43m \u001b[49m\u001b[43mc\u001b[49m\u001b[43m,\u001b[49m\u001b[43m \u001b[49m\u001b[43mf\u001b[49m\u001b[43m)\u001b[49m\n\u001b[1;32m     33\u001b[0m P[n, \u001b[38;5;241m1\u001b[39m:\u001b[38;5;241m-\u001b[39m\u001b[38;5;241m1\u001b[39m] \u001b[38;5;241m=\u001b[39m p\n\u001b[1;32m     34\u001b[0m \u001b[38;5;66;03m# print(p)\u001b[39;00m\n",
      "File \u001b[0;32m~/Личное/Роснефть/1D_filtration/SLAU.py:49\u001b[0m, in \u001b[0;36mtridiagonal_solve\u001b[0;34m(a, b, c, f)\u001b[0m\n\u001b[1;32m     47\u001b[0m     x \u001b[38;5;241m=\u001b[39m f[\u001b[38;5;241m0\u001b[39m]\n\u001b[1;32m     48\u001b[0m \u001b[38;5;28;01melse\u001b[39;00m:\n\u001b[0;32m---> 49\u001b[0m     \u001b[43mquit\u001b[49m()\n\u001b[1;32m     50\u001b[0m \u001b[38;5;28;01mreturn\u001b[39;00m x\n",
      "\u001b[0;31mNameError\u001b[0m: name 'quit' is not defined"
     ]
    }
   ],
   "source": [
    "temp = k * tau / mu1 / h**2\n",
    "\n",
    "for n in range(1, N0):\n",
    "    a = np.zeros(N-3)\n",
    "    b = np.zeros(N-3)\n",
    "    c = np.zeros(N-2)\n",
    "    f = np.zeros(N-2)\n",
    "    for i in range(1, N-1):\n",
    "        S[n, i] = S[n-1, i] + temp * \\\n",
    "            (k1(S[n-1, i]) * S[n-1, i] * (P[n-1, i-1] - 2 * P[n-1, i] + P[n-1, i+1]) - \\\n",
    "            (P[n-1, i] - P[n-1, i-1]) * (S[n-1, i] * (k1(S[n-1, i] - k1(S[n-1, i-1])) + k1(S[n-1, i]) * (S[n-1, i] - S[n-1, i-1]))))\n",
    "        # print(\"dS =\", temp * (k1(S[n-1, i]) * S[n-1, i] * (P[n-1, i-1] - 2 * P[n-1, i] + P[n-1, i+1]) - \\\n",
    "            # (P[n-1, i] - P[n-1, i-1]) * (S[n-1, i] * (k1(S[n-1, i] - k1(S[n-1, i-1])) + k1(S[n-1, i]) * (S[n-1, i] - S[n-1, i-1])))))\n",
    "        \n",
    "        skbka1 = S[n, i] * k1(S[n, i]) / mu1 + (1 - S[n, i]) * k2(S[n, i]) / mu2\n",
    "        skbka2 = 1 / mu1 * (S[n, i] * k1(S[n, i]) - S[n, i-1] * k1(S[n, i-1])) + 1 / mu2 * ((1 - S[n,i]) * k2(S[n, i]) - (1 - S[n, i-1]) * k2(S[n, i-1]))\n",
    "        \n",
    "        c[i-1] = 2 * skbka1 + skbka2\n",
    "\n",
    "        if i < N - 2:\n",
    "            b[i-1] = skbka1 + skbka2\n",
    "\n",
    "        if i > 1:\n",
    "            a[i-2] = skbka1\n",
    "        \n",
    "        if i == 1:\n",
    "            f[i - 1] = skbka1 * P[n, i-1]\n",
    "        elif i == N-2:\n",
    "            f[-1] = (2 * skbka1 + skbka2) * P[n, -1]\n",
    "\n",
    "    # print(a, b, c, f)\n",
    "    p = SLAU.tridiagonal_solve(a, b, c, f)\n",
    "    P[n, 1:-1] = p\n",
    "    # print(p)\n"
   ]
  },
  {
   "cell_type": "code",
   "execution_count": 14,
   "metadata": {},
   "outputs": [
    {
     "data": {
      "image/png": "[encoded data removed]",
      "text/plain": [
       "<Figure size 900x300 with 2 Axes>"
      ]
     },
     "metadata": {},
     "output_type": "display_data"
    }
   ],
   "source": [
    "f, (ax1, ax2) = plt.subplots(1, 2, figsize=(9, 3), sharey=False)\n",
    "ax1.set_title(\"Saturation\")\n",
    "ax2.set_title(\"Pressure\")\n",
    "\n",
    "for i in S:\n",
    "    ax1.plot(np.arange(0, L+h/2, h), i)\n",
    "    \n",
    "for i in P:\n",
    "    ax2.plot(np.arange(0, L+h/2, h), i)\n",
    "\n",
    "plt.show()"
   ]
  },
  {
   "cell_type": "code",
   "execution_count": null,
   "metadata": {},
   "outputs": [],
   "source": []
  },
  {
   "cell_type": "code",
   "execution_count": null,
   "metadata": {},
   "outputs": [],
   "source": []
  }
 ],
 "metadata": {
  "kernelspec": {
   "display_name": "Python 3",
   "language": "python",
   "name": "python3"
  },
  "language_info": {
   "codemirror_mode": {
    "name": "ipython",
    "version": 3
   },
   "file_extension": ".py",
   "mimetype": "text/x-python",
   "name": "python",
   "nbconvert_exporter": "python",
   "pygments_lexer": "ipython3",
   "version": "3.12.2"
  }
 },
 "nbformat": 4,
 "nbformat_minor": 2
}
