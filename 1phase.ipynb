{
  "cells": [
    {
      "cell_type": "markdown",
      "metadata": {
        "id": "tu-BT5uTvWVK"
      },
      "source": [
        "# Одномерная фильтрация"
      ]
    },
    {
      "cell_type": "markdown",
      "metadata": {
        "id": "EFHp9h-pvi8i"
      },
      "source": [
        "## Однофазная фильтрация несжимаемой жидкости"
      ]
    },
    {
      "cell_type": "markdown",
      "metadata": {},
      "source": [
        "### Уравнения"
      ]
    },
    {
      "cell_type": "markdown",
      "metadata": {
        "id": "O3EX0YMIvl6k"
      },
      "source": [
        "Уравнения неразрывности и движения для однофазного потока в неупругой пористой среде\n",
        "$$ \\begin{cases}\n",
        "\\frac{\\partial \\rho}{\\partial t} + \\nabla \\cdot (\\rho \\vec{v}) = 0 \\\\\n",
        "\\vec{v} = -\\frac{k}{\\mu} \\nabla P \\\\\n",
        "\\end{cases} $$"
      ]
    },
    {
      "cell_type": "markdown",
      "metadata": {
        "id": "ccvUpatvwitQ"
      },
      "source": [
        "Пусть $\\rho = const$\n",
        "\n",
        "$$ \\begin{cases}\n",
        "\\nabla \\cdot  \\vec{v} = 0 \\\\\n",
        "\\vec{v} = -\\frac{k}{\\mu} \\nabla P \\\\\n",
        "\\end{cases} $$"
      ]
    },
    {
      "cell_type": "markdown",
      "metadata": {
        "id": "s5O-XiaXvmHn"
      },
      "source": [
        "Пусть поток одномерен\n",
        "\n",
        "$$ \\begin{cases}\n",
        "\\frac{\\partial v}{\\partial x} = 0 \\\\\n",
        "v = -\\frac{k}{\\mu} \\frac{\\partial P}{\\partial x} \\\\\n",
        "\\end{cases} $$"
      ]
    },
    {
      "cell_type": "markdown",
      "metadata": {},
      "source": [
        "### Численное решение"
      ]
    },
    {
      "cell_type": "markdown",
      "metadata": {
        "id": "j-A2fc8YvmOe"
      },
      "source": [
        "Дискретизируем методом конечных разностей\n",
        "\n",
        "$$ \\begin{cases}\n",
        "\\frac{v_{i+1} - v_{i}}{h} = 0 \\\\\n",
        "v_i = -\\frac{k}{\\mu} \\frac{P_{i+1} - P_{i}}{h} \\\\\n",
        "\\end{cases} $$\n",
        "\n",
        "Из первого уравнения следует\n",
        "\n",
        "$$ P_{i-1} - 2P_{i} + P_{i+1} = 0 $$\n",
        "\n",
        "Задача сводится к нахождению поля давления"
      ]
    },
    {
      "cell_type": "markdown",
      "metadata": {},
      "source": [
        "![Разностная сетка](./source/grid1d.png)"
      ]
    },
    {
      "cell_type": "markdown",
      "metadata": {},
      "source": [
        "Пусть расчетная область состоит из 5-и узловых точек, в первой и последней задаются граничные условия в виде давления, тогда система примет вид\n",
        "\n",
        "$$\n",
        "\\begin{pmatrix}\n",
        "-2 &  1 &  0 \\\\\n",
        "1  & -2 &  1 \\\\\n",
        "0  &  1 & -2 \\\\\n",
        "\\end{pmatrix} \n",
        "\\cdot\n",
        "\\begin{pmatrix}\n",
        "P_1 \\\\\n",
        "P_2 \\\\\n",
        "P_3 \\\\\n",
        "\\end{pmatrix}\n",
        "=\n",
        "\\begin{pmatrix}\n",
        "-P_0 \\\\\n",
        "0 \\\\\n",
        "-P_4 \\\\\n",
        "\\end{pmatrix}\n",
        "\n",
        "$$\n",
        "$$\n",
        "\\textbf{Ax} = \\textbf{B}\n",
        "$$"
      ]
    },
    {
      "cell_type": "code",
      "execution_count": 1,
      "metadata": {},
      "outputs": [
        {
          "data": {
            "text/plain": [
              "array([[-2.,  1.,  0.],\n",
              "       [ 1., -2.,  1.],\n",
              "       [ 0.,  1., -2.]])"
            ]
          },
          "execution_count": 1,
          "metadata": {},
          "output_type": "execute_result"
        }
      ],
      "source": [
        "import numpy as np\n",
        "\n",
        "# Кол-во узловых точек\n",
        "n = 5\n",
        "\n",
        "# Длина расчетной области\n",
        "L = 2\n",
        "\n",
        "# Граничные условия (начало и конец расчетной области)\n",
        "P0 = 2\n",
        "Pn = 1\n",
        "\n",
        "A = np.zeros([n-2, n-2])\n",
        "for i in range(n-2):\n",
        "    A[i][i] = -2\n",
        "    if i < n-3:\n",
        "        A[i][i+1] = 1\n",
        "    if i > 0:\n",
        "        A[i][i-1] = 1\n",
        "\n",
        "B = np.zeros(n - 2)\n",
        "B[0], B[-1] = -P0, -Pn\n",
        "\n",
        "A"
      ]
    },
    {
      "cell_type": "code",
      "execution_count": 10,
      "metadata": {},
      "outputs": [],
      "source": [
        "import SLAU\n",
        "\n",
        "c = 2 * np.ones(n-2)\n",
        "a = b = np.ones(n-3)\n",
        "f = np.zeros_like(c)\n",
        "f[0] = P0\n",
        "f[-1] = Pn\n",
        "\n",
        "P_solve = SLAU.tridiagonal_solve(a, b, c, f)"
      ]
    },
    {
      "cell_type": "code",
      "execution_count": 11,
      "metadata": {},
      "outputs": [
        {
          "data": {
            "text/plain": [
              "array([0.00000000e+00, 2.22044605e-16, 0.00000000e+00])"
            ]
          },
          "execution_count": 11,
          "metadata": {},
          "output_type": "execute_result"
        }
      ],
      "source": [
        "P = np.zeros(n)\n",
        "\n",
        "x = np.arange(0, L + L/n , L/(n - 1))\n",
        "\n",
        "P[0] = P0\n",
        "P[-1] = Pn\n",
        "P[1:-1] = P_solve\n",
        "\n",
        "P_numpy_solve = np.linalg.solve(A, B)\n",
        "P_numpy_solve - P_solve"
      ]
    },
    {
      "cell_type": "code",
      "execution_count": 12,
      "metadata": {},
      "outputs": [
        {
          "data": {
            "image/png": "[encoded data removed]",
            "text/plain": [
              "<Figure size 640x480 with 1 Axes>"
            ]
          },
          "metadata": {},
          "output_type": "display_data"
        }
      ],
      "source": [
        "# import plotly.express as px\n",
        "import matplotlib.pyplot as plt\n",
        "\n",
        "plt.plot(x, P, marker='o')\n",
        "plt.show()"
      ]
    },
    {
      "cell_type": "markdown",
      "metadata": {},
      "source": [
        "## Однофазная фильтрация сжимаемой жидкости"
      ]
    },
    {
      "cell_type": "markdown",
      "metadata": {},
      "source": [
        "### Уравнения"
      ]
    },
    {
      "cell_type": "markdown",
      "metadata": {},
      "source": [
        "Уравнения неразрывности и движения для однофазного потока в неупругой пористой среде\n",
        "$$ \\begin{cases}\n",
        "\\frac{\\partial \\rho}{\\partial t} + \\nabla \\cdot (\\rho \\vec{v}) = 0 \\\\\n",
        "\\vec{v} = -\\frac{k}{\\mu} \\nabla P \\\\\n",
        "\\end{cases} $$"
      ]
    },
    {
      "cell_type": "markdown",
      "metadata": {},
      "source": [
        "Так как жидкость теперь сжимаемая, то к этой системе добавляется уравнение состояния\n",
        "$$ \\begin{cases}\n",
        "\\frac{\\partial \\rho}{\\partial t} + \\nabla \\cdot (\\rho \\vec{v}) = 0 \\\\\n",
        "\\vec{v} = -\\frac{k}{\\mu} \\nabla P \\\\\n",
        "\\rho = f(P) \\\\\n",
        "\\end{cases} $$"
      ]
    },
    {
      "cell_type": "markdown",
      "metadata": {},
      "source": [
        "Сжимаемость жидкости определяется следующим уравнением\n",
        "\n",
        "$$\n",
        "\\beta = - \\frac{1}{V} \\frac{\\partial V}{\\partial P} = \\frac{1}{\\rho} \\frac{\\partial \\rho}{\\partial P}\n",
        "$$\n"
      ]
    },
    {
      "cell_type": "markdown",
      "metadata": {},
      "source": [
        "В результате интегрирования получим\n",
        "$$\n",
        "\\rho = \\rho_0 e^{\\beta (P - P_0)}\n",
        "$$"
      ]
    },
    {
      "cell_type": "markdown",
      "metadata": {},
      "source": [
        "$$ \\begin{cases}\n",
        "\\frac{\\partial \\rho}{\\partial t} + \\nabla \\cdot (\\rho \\vec{v}) = 0 \\\\\n",
        "\\vec{v} = -\\frac{k}{\\mu} \\nabla P \\\\\n",
        "\\rho = \\rho_0 e^{\\beta (P - P_0)} \\\\\n",
        "\\end{cases} $$\n",
        "\n",
        "Пусть поток одномерен\n",
        "\n",
        "$$ \\begin{cases}\n",
        "\\frac{\\partial \\rho}{\\partial t} + \\frac{\\partial \\rho v}{\\partial x} = 0 \\\\\n",
        "v = -\\frac{k}{\\mu} \\frac{\\partial P}{\\partial x} \\\\\n",
        "\\rho = \\rho_0 e^{\\beta (P - P_0)} \\\\\n",
        "\\end{cases} $$"
      ]
    },
    {
      "cell_type": "markdown",
      "metadata": {},
      "source": [
        "Подставим уравнение состояние в уравнение неразрывности\n",
        "$$\\frac{\\partial \\rho_0 e^{\\beta (P - P_0)}}{\\partial t} + \\frac{\\partial v \\rho_0 e^{\\beta (P - P_0)}}{\\partial x} = 0\n",
        "$$\n",
        "\n",
        "$$\\frac{\\partial  e^{\\beta P}}{\\partial t} + \\frac{\\partial v  e^{\\beta P}}{\\partial x} = 0\n",
        "$$"
      ]
    },
    {
      "cell_type": "markdown",
      "metadata": {},
      "source": [
        "Подставим уравнение движения в полученное уравнение \n",
        "\n",
        "$$\\frac{\\partial  e^{\\beta (P - P_0)}}{\\partial t} -  \\frac{k}{\\mu} \\frac{\\partial  \\frac{\\partial P}{\\partial x}  e^{\\beta (P - P_0)}}{\\partial x} = 0\n",
        "$$\n",
        "\n",
        "$$\\frac{\\mu}{k} \\frac{\\partial  e^{\\beta P}}{\\partial t} -  e^{\\beta P} \\frac{\\partial^2 P}{\\partial x^2} - \\frac{\\partial P}{\\partial x} \\frac {\\partial e^{\\beta P}}{\\partial x} = 0\n",
        "$$"
      ]
    },
    {
      "cell_type": "markdown",
      "metadata": {},
      "source": [
        "### Численное решение"
      ]
    },
    {
      "cell_type": "markdown",
      "metadata": {},
      "source": [
        "Дискретизируем методом конечных разностей по явной схеме\n",
        "$$\\frac{\\mu}{k} \\frac{e^{\\beta P_{i}^{n+1}} - e^{\\beta P_{i}^{n}}}{\\tau} - e^{\\beta P_i^n} \\frac{P_{i-1}^{n} - 2P_i^n + P_{i+1}^n}{h^2} - \\frac{P_{i}^n - P_{i-1}^n}{h^2} \\left(e^{\\beta P_{i}^{n}} - e^{\\beta P_{i-1}^{n}}\\right) = 0"
      ]
    },
    {
      "cell_type": "markdown",
      "metadata": {},
      "source": [
        "$$\n",
        "P_i^{n+1} = \\frac{1}{\\beta} \\ln{\\left[ e^{\\beta P_i^n} + \\frac{k \\tau}{\\mu h^2} \\left(e^{\\beta P_{i}^{n}} (P_{i+1}^n - P_i^n) + e^{\\beta P_{i-1}^{n}} (P_{i-1}^n - P_i^n) \\right) \\right]}\n",
        "$$"
      ]
    },
    {
      "cell_type": "code",
      "execution_count": 13,
      "metadata": {},
      "outputs": [],
      "source": [
        "import numpy as np\n",
        "\n",
        "# Кол-во узловых точек\n",
        "nx = 10\n",
        "nt = 1000\n",
        "\n",
        "# Длина расчетной области\n",
        "L = 0.15\n",
        "T = 60\n",
        "\n",
        "# Физ параметры\n",
        "k = 10**(-12)\n",
        "mu = 10**(-3)\n",
        "beta = 5*10**(-5)\n",
        "\n",
        "# Граничные условия (начало и конец расчетной области)\n",
        "P0 = 0.01 * 10**6\n",
        "Pn = 0.02 * 10**6\n",
        "\n",
        "P = np.zeros([nt, nx])\n",
        "# нач условия\n",
        "P[0][:] = Pn\n",
        "# гран условия\n",
        "P[:, 0] = P0\n",
        "P[:, -1] = Pn\n",
        "\n",
        "tau = T / (nt - 1)\n",
        "h = L / (nx - 1)"
      ]
    },
    {
      "cell_type": "code",
      "execution_count": 14,
      "metadata": {},
      "outputs": [],
      "source": [
        "a = k * tau / mu / (h*h)\n",
        "# print(a)\n",
        "for n in range(0, nt-1):\n",
        "    for i in range(1, nx-1):\n",
        "        skbka = np.exp(beta * P[n, i]) * (P[n, i+1] - P[n, i]) + np.exp(beta * P[n, i-1]) * (P[n, i-1] - P[n, i])\n",
        "        P[n+1, i] = np.log(np.exp(beta * P[n, i]) + a * skbka) / beta"
      ]
    },
    {
      "cell_type": "code",
      "execution_count": 15,
      "metadata": {},
      "outputs": [
        {
          "data": {
            "image/png": "[encoded data removed]",
            "text/plain": [
              "<Figure size 640x480 with 1 Axes>"
            ]
          },
          "metadata": {},
          "output_type": "display_data"
        }
      ],
      "source": [
        "for i in P:\n",
        "    plt.plot(np.arange(0, L+h/2, h), i)\n",
        "\n",
        "plt.show()"
      ]
    },
    {
      "cell_type": "code",
      "execution_count": 16,
      "metadata": {},
      "outputs": [
        {
          "data": {
            "application/vnd.plotly.v1+json": {
              "config": {
                "plotlyServerURL": "https://plot.ly"
              },
              "data": [
                {
                  "hovertemplate": "variable=wide_variable_0<br>x=%{x}<br>value=%{y}<extra></extra>",
                  "legendgroup": "wide_variable_0",
                  "line": {
                    "color": "#636efa",
                    "dash": "solid"
                  },
                  "marker": {
                    "symbol": "circle"
                  },
                  "mode": "lines",
                  "name": "wide_variable_0",
                  "orientation": "v",
                  "showlegend": true,
                  "type": "scatter",
                  "x": [
                    0,
                    0.016666666666666666,
                    0.03333333333333333,
                    0.05,
                    0.06666666666666667,
                    0.08333333333333333,
                    0.1,
                    0.11666666666666667,
                    0.13333333333333333,
                    0.15
                  ],
                  "xaxis": "x",
                  "y": [
                    10000,
                    20000,
                    20000,
                    20000,
                    20000,
                    20000,
                    20000,
                    20000,
                    20000,
                    20000
                  ],
                  "yaxis": "y"
                },
                {
                  "hovertemplate": "variable=wide_variable_1<br>x=%{x}<br>value=%{y}<extra></extra>",
                  "legendgroup": "wide_variable_1",
                  "line": {
                    "color": "#EF553B",
                    "dash": "solid"
                  },
                  "marker": {
                    "symbol": "circle"
                  },
                  "mode": "lines",
                  "name": "wide_variable_1",
                  "orientation": "v",
                  "showlegend": true,
                  "type": "scatter",
                  "x": [
                    0,
                    0.016666666666666666,
                    0.03333333333333333,
                    0.05,
                    0.06666666666666667,
                    0.08333333333333333,
                    0.1,
                    0.11666666666666667,
                    0.13333333333333333,
                    0.15
                  ],
                  "xaxis": "x",
                  "y": [
                    10000,
                    19744.07166942201,
                    19995.12207748005,
                    19999.94375188918,
                    19999.999572806515,
                    19999.999997771443,
                    19999.999999991913,
                    19999.999999999985,
                    20000,
                    20000
                  ],
                  "yaxis": "y"
                },
                {
                  "hovertemplate": "variable=wide_variable_2<br>x=%{x}<br>value=%{y}<extra></extra>",
                  "legendgroup": "wide_variable_2",
                  "line": {
                    "color": "#00cc96",
                    "dash": "solid"
                  },
                  "marker": {
                    "symbol": "circle"
                  },
                  "mode": "lines",
                  "name": "wide_variable_2",
                  "orientation": "v",
                  "showlegend": true,
                  "type": "scatter",
                  "x": [
                    0,
                    0.016666666666666666,
                    0.03333333333333333,
                    0.05,
                    0.06666666666666667,
                    0.08333333333333333,
                    0.1,
                    0.11666666666666667,
                    0.13333333333333333,
                    0.15
                  ],
                  "xaxis": "x",
                  "y": [
                    10000,
                    19501.94165097661,
                    19980.49324289983,
                    19999.498267999566,
                    19999.990790468015,
                    19999.999872295804,
                    19999.999998613934,
                    19999.99999998795,
                    19999.999999999924,
                    20000
                  ],
                  "yaxis": "y"
                },
                {
                  "hovertemplate": "variable=wide_variable_3<br>x=%{x}<br>value=%{y}<extra></extra>",
                  "legendgroup": "wide_variable_3",
                  "line": {
                    "color": "#ab63fa",
                    "dash": "solid"
                  },
                  "marker": {
                    "symbol": "circle"
                  },
                  "mode": "lines",
                  "name": "wide_variable_3",
                  "orientation": "v",
                  "showlegend": true,
                  "type": "scatter",
                  "x": [
                    0,
                    0.016666666666666666,
                    0.03333333333333333,
                    0.05,
                    0.06666666666666667,
                    0.08333333333333333,
                    0.1,
                    0.11666666666666667,
                    0.13333333333333333,
                    0.15
                  ],
                  "xaxis": "x",
                  "y": [
                    10000,
                    19272.57583338198,
                    19957.635906529893,
                    19998.320640861584,
                    19999.951287769225,
                    19999.998906023644,
                    19999.999980257788,
                    19999.999999706313,
                    19999.999999996337,
                    20000
                  ],
                  "yaxis": "y"
                },
                {
                  "hovertemplate": "variable=wide_variable_4<br>x=%{x}<br>value=%{y}<extra></extra>",
                  "legendgroup": "wide_variable_4",
                  "line": {
                    "color": "#FFA15A",
                    "dash": "solid"
                  },
                  "marker": {
                    "symbol": "circle"
                  },
                  "mode": "lines",
                  "name": "wide_variable_4",
                  "orientation": "v",
                  "showlegend": true,
                  "type": "scatter",
                  "x": [
                    0,
                    0.016666666666666666,
                    0.03333333333333333,
                    0.05,
                    0.06666666666666667,
                    0.08333333333333333,
                    0.1,
                    0.11666666666666667,
                    0.13333333333333333,
                    0.15
                  ],
                  "xaxis": "x",
                  "y": [
                    10000,
                    19055.041721236077,
                    19927.83795475088,
                    19996.155535291262,
                    19999.847981901992,
                    19999.995289218172,
                    19999.999881277712,
                    19999.999997502673,
                    19999.999999955337,
                    20000
                  ],
                  "yaxis": "y"
                },
                {
                  "hovertemplate": "variable=wide_variable_5<br>x=%{x}<br>value=%{y}<extra></extra>",
                  "legendgroup": "wide_variable_5",
                  "line": {
                    "color": "#19d3f3",
                    "dash": "solid"
                  },
                  "marker": {
                    "symbol": "circle"
                  },
                  "mode": "lines",
                  "name": "wide_variable_5",
                  "orientation": "v",
                  "showlegend": true,
                  "type": "scatter",
                  "x": [
                    0,
                    0.016666666666666666,
                    0.03333333333333333,
                    0.05,
                    0.06666666666666667,
                    0.08333333333333333,
                    0.1,
                    0.11666666666666667,
                    0.13333333333333333,
                    0.15
                  ],
                  "xaxis": "x",
                  "y": [
                    10000,
                    18848.495639364573,
                    19892.192681806242,
                    19992.81865535354,
                    19999.641242579997,
                    19999.985845236934,
                    19999.99954251844,
                    19999.999987570554,
                    19999.999999710762,
                    20000
                  ],
                  "yaxis": "y"
                },
                {
                  "hovertemplate": "variable=wide_variable_6<br>x=%{x}<br>value=%{y}<extra></extra>",
                  "legendgroup": "wide_variable_6",
                  "line": {
                    "color": "#FF6692",
                    "dash": "solid"
                  },
                  "marker": {
                    "symbol": "circle"
                  },
                  "mode": "lines",
                  "name": "wide_variable_6",
                  "orientation": "v",
                  "showlegend": true,
                  "type": "scatter",
                  "x": [
                    0,
                    0.016666666666666666,
                    0.03333333333333333,
                    0.05,
                    0.06666666666666667,
                    0.08333333333333333,
                    0.1,
                    0.11666666666666667,
                    0.13333333333333333,
                    0.15
                  ],
                  "xaxis": "x",
                  "y": [
                    10000,
                    18652.171916865318,
                    19851.63110245761,
                    19988.183008118183,
                    19999.288078720445,
                    19999.965930715207,
                    19999.998657742988,
                    19999.999955332732,
                    19999.99999872104,
                    20000
                  ],
                  "yaxis": "y"
                },
                {
                  "hovertemplate": "variable=wide_variable_7<br>x=%{x}<br>value=%{y}<extra></extra>",
                  "legendgroup": "wide_variable_7",
                  "line": {
                    "color": "#B6E880",
                    "dash": "solid"
                  },
                  "marker": {
                    "symbol": "circle"
                  },
                  "mode": "lines",
                  "name": "wide_variable_7",
                  "orientation": "v",
                  "showlegend": true,
                  "type": "scatter",
                  "x": [
                    0,
                    0.016666666666666666,
                    0.03333333333333333,
                    0.05,
                    0.06666666666666667,
                    0.08333333333333333,
                    0.1,
                    0.11666666666666667,
                    0.13333333333333333,
                    0.15
                  ],
                  "xaxis": "x",
                  "y": [
                    10000,
                    18465.373692032543,
                    19806.948268690554,
                    19982.16753795034,
                    19998.744535478763,
                    19999.929459029772,
                    19999.996724473942,
                    19999.999871077714,
                    19999.999995620088,
                    20000
                  ],
                  "yaxis": "y"
                },
                {
                  "hovertemplate": "variable=wide_variable_8<br>x=%{x}<br>value=%{y}<extra></extra>",
                  "legendgroup": "wide_variable_8",
                  "line": {
                    "color": "#FF97FF",
                    "dash": "solid"
                  },
                  "marker": {
                    "symbol": "circle"
                  },
                  "mode": "lines",
                  "name": "wide_variable_8",
                  "orientation": "v",
                  "showlegend": true,
                  "type": "scatter",
                  "x": [
                    0,
                    0.016666666666666666,
                    0.03333333333333333,
                    0.05,
                    0.06666666666666667,
                    0.08333333333333333,
                    0.1,
                    0.11666666666666667,
                    0.13333333333333333,
                    0.15
                  ],
                  "xaxis": "x",
                  "y": [
                    10000,
                    18287.465053076638,
                    19758.824829994788,
                    19974.727756620952,
                    19997.96746065118,
                    19999.869007308647,
                    19999.993001317966,
                    19999.999682169968,
                    19999.999987512434,
                    20000
                  ],
                  "yaxis": "y"
                },
                {
                  "hovertemplate": "variable=wide_variable_9<br>x=%{x}<br>value=%{y}<extra></extra>",
                  "legendgroup": "wide_variable_9",
                  "line": {
                    "color": "#FECB52",
                    "dash": "solid"
                  },
                  "marker": {
                    "symbol": "circle"
                  },
                  "mode": "lines",
                  "name": "wide_variable_9",
                  "orientation": "v",
                  "showlegend": true,
                  "type": "scatter",
                  "x": [
                    0,
                    0.016666666666666666,
                    0.03333333333333333,
                    0.05,
                    0.06666666666666667,
                    0.08333333333333333,
                    0.1,
                    0.11666666666666667,
                    0.13333333333333333,
                    0.15
                  ],
                  "xaxis": "x",
                  "y": [
                    10000,
                    18117.864286397842,
                    19707.8447929978,
                    19965.84804478538,
                    19996.91577062049,
                    19999.77597671998,
                    19999.98647405579,
                    19999.999304259723,
                    19999.999968982334,
                    20000
                  ],
                  "yaxis": "y"
                },
                {
                  "hovertemplate": "variable=wide_variable_10<br>x=%{x}<br>value=%{y}<extra></extra>",
                  "legendgroup": "wide_variable_10",
                  "line": {
                    "color": "#636efa",
                    "dash": "solid"
                  },
                  "marker": {
                    "symbol": "circle"
                  },
                  "mode": "lines",
                  "name": "wide_variable_10",
                  "orientation": "v",
                  "showlegend": true,
                  "type": "scatter",
                  "x": [
                    0,
                    0.016666666666666666,
                    0.03333333333333333,
                    0.05,
                    0.06666666666666667,
                    0.08333333333333333,
                    0.1,
                    0.11666666666666667,
                    0.13333333333333333,
                    0.15
                  ],
                  "xaxis": "x",
                  "y": [
                    10000,
                    17956.038048398466,
                    19654.51022394966,
                    19955.535347064346,
                    19995.55132209812,
                    19999.640783280935,
                    19999.97583149857,
                    19999.998611950745,
                    19999.999930807815,
                    20000
                  ],
                  "yaxis": "y"
                },
                {
                  "hovertemplate": "variable=wide_variable_11<br>x=%{x}<br>value=%{y}<extra></extra>",
                  "legendgroup": "wide_variable_11",
                  "line": {
                    "color": "#EF553B",
                    "dash": "solid"
                  },
                  "marker": {
                    "symbol": "circle"
                  },
                  "mode": "lines",
                  "name": "wide_variable_11",
                  "orientation": "v",
                  "showlegend": true,
                  "type": "scatter",
                  "x": [
                    0,
                    0.016666666666666666,
                    0.03333333333333333,
                    0.05,
                    0.06666666666666667,
                    0.08333333333333333,
                    0.1,
                    0.11666666666666667,
                    0.13333333333333333,
                    0.15
                  ],
                  "xaxis": "x",
                  "y": [
                    10000,
                    17801.49631151612,
                    19599.253477078466,
                    19943.814024979514,
                    19993.839476088408,
                    19999.45306235014,
                    19999.959451218998,
                    19999.997429369898,
                    19999.999858390132,
                    20000
                  ],
                  "yaxis": "y"
                },
                {
                  "hovertemplate": "variable=wide_variable_12<br>x=%{x}<br>value=%{y}<extra></extra>",
                  "legendgroup": "wide_variable_12",
                  "line": {
                    "color": "#00cc96",
                    "dash": "solid"
                  },
                  "marker": {
                    "symbol": "circle"
                  },
                  "mode": "lines",
                  "name": "wide_variable_12",
                  "orientation": "v",
                  "showlegend": true,
                  "type": "scatter",
                  "x": [
                    0,
                    0.016666666666666666,
                    0.03333333333333333,
                    0.05,
                    0.06666666666666667,
                    0.08333333333333333,
                    0.1,
                    0.11666666666666667,
                    0.13333333333333333,
                    0.15
                  ],
                  "xaxis": "x",
                  "y": [
                    10000,
                    17653.787962591992,
                    19542.447409359545,
                    19930.721668996117,
                    19991.749424093246,
                    19999.201874611987,
                    19999.935394665958,
                    19999.995521038687,
                    19999.999729926003,
                    20000
                  ],
                  "yaxis": "y"
                },
                {
                  "hovertemplate": "variable=wide_variable_13<br>x=%{x}<br>value=%{y}<extra></extra>",
                  "legendgroup": "wide_variable_13",
                  "line": {
                    "color": "#ab63fa",
                    "dash": "solid"
                  },
                  "marker": {
                    "symbol": "circle"
                  },
                  "mode": "lines",
                  "name": "wide_variable_13",
                  "orientation": "v",
                  "showlegend": true,
                  "type": "scatter",
                  "x": [
                    0,
                    0.016666666666666666,
                    0.03333333333333333,
                    0.05,
                    0.06666666666666667,
                    0.08333333333333333,
                    0.1,
                    0.11666666666666667,
                    0.13333333333333333,
                    0.15
                  ],
                  "xaxis": "x",
                  "y": [
                    10000,
                    17512.49695352526,
                    19484.413947951478,
                    19916.30570299865,
                    19989.25433302569,
                    19998.875904977405,
                    19999.901410792878,
                    19999.992583386404,
                    19999.999514363553,
                    20000
                  ],
                  "yaxis": "y"
                },
                {
                  "hovertemplate": "variable=wide_variable_14<br>x=%{x}<br>value=%{y}<extra></extra>",
                  "legendgroup": "wide_variable_14",
                  "line": {
                    "color": "#FFA15A",
                    "dash": "solid"
                  },
                  "marker": {
                    "symbol": "circle"
                  },
                  "mode": "lines",
                  "name": "wide_variable_14",
                  "orientation": "v",
                  "showlegend": true,
                  "type": "scatter",
                  "x": [
                    0,
                    0.016666666666666666,
                    0.03333333333333333,
                    0.05,
                    0.06666666666666667,
                    0.08333333333333333,
                    0.1,
                    0.11666666666666667,
                    0.13333333333333333,
                    0.15
                  ],
                  "xaxis": "x",
                  "y": [
                    10000,
                    17377.238921661476,
                    19425.43130337972,
                    19900.6206420069,
                    19986.331354140828,
                    19998.463648619036,
                    19999.854947113392,
                    19999.988237177804,
                    19999.999169191567,
                    20000
                  ],
                  "yaxis": "y"
                },
                {
                  "hovertemplate": "variable=wide_variable_15<br>x=%{x}<br>value=%{y}<extra></extra>",
                  "legendgroup": "wide_variable_15",
                  "line": {
                    "color": "#19d3f3",
                    "dash": "solid"
                  },
                  "marker": {
                    "symbol": "circle"
                  },
                  "mode": "lines",
                  "name": "wide_variable_15",
                  "orientation": "v",
                  "showlegend": true,
                  "type": "scatter",
                  "x": [
                    0,
                    0.016666666666666666,
                    0.03333333333333333,
                    0.05,
                    0.06666666666666667,
                    0.08333333333333333,
                    0.1,
                    0.11666666666666667,
                    0.13333333333333333,
                    0.15
                  ],
                  "xaxis": "x",
                  "y": [
                    10000,
                    17247.658211463924,
                    19365.74006434513,
                    19883.725887277506,
                    19982.961532127276,
                    19997.953580492656,
                    19999.79316700023,
                    19999.98202106015,
                    19999.998638118526,
                    20000
                  ],
                  "yaxis": "y"
                },
                {
                  "hovertemplate": "variable=wide_variable_16<br>x=%{x}<br>value=%{y}<extra></extra>",
                  "legendgroup": "wide_variable_16",
                  "line": {
                    "color": "#FF6692",
                    "dash": "solid"
                  },
                  "marker": {
                    "symbol": "circle"
                  },
                  "mode": "lines",
                  "name": "wide_variable_16",
                  "orientation": "v",
                  "showlegend": true,
                  "type": "scatter",
                  "x": [
                    0,
                    0.016666666666666666,
                    0.03333333333333333,
                    0.05,
                    0.06666666666666667,
                    0.08333333333333333,
                    0.1,
                    0.11666666666666667,
                    0.13333333333333333,
                    0.15
                  ],
                  "xaxis": "x",
                  "y": [
                    10000,
                    17123.42524044469,
                    19305.548365011666,
                    19865.683962623367,
                    19979.129643001386,
                    19997.334306308097,
                    19999.712972028115,
                    19999.973386370213,
                    19999.997848699975,
                    20000
                  ],
                  "yaxis": "y"
                },
                {
                  "hovertemplate": "variable=wide_variable_17<br>x=%{x}<br>value=%{y}<extra></extra>",
                  "legendgroup": "wide_variable_17",
                  "line": {
                    "color": "#B6E880",
                    "dash": "solid"
                  },
                  "marker": {
                    "symbol": "circle"
                  },
                  "mode": "lines",
                  "name": "wide_variable_17",
                  "orientation": "v",
                  "showlegend": true,
                  "type": "scatter",
                  "x": [
                    0,
                    0.016666666666666666,
                    0.03333333333333333,
                    0.05,
                    0.06666666666666667,
                    0.08333333333333333,
                    0.1,
                    0.11666666666666667,
                    0.13333333333333333,
                    0.15
                  ],
                  "xaxis": "x",
                  "y": [
                    10000,
                    17004.234161640532,
                    19245.036279968434,
                    19846.559112300594,
                    19974.823983329035,
                    19996.594694109022,
                    19999.611028204763,
                    19999.96169328328,
                    19999.996709972507,
                    20000
                  ],
                  "yaxis": "y"
                },
                {
                  "hovertemplate": "variable=wide_variable_18<br>x=%{x}<br>value=%{y}<extra></extra>",
                  "legendgroup": "wide_variable_18",
                  "line": {
                    "color": "#FF97FF",
                    "dash": "solid"
                  },
                  "marker": {
                    "symbol": "circle"
                  },
                  "mode": "lines",
                  "name": "wide_variable_18",
                  "orientation": "v",
                  "showlegend": true,
                  "type": "scatter",
                  "x": [
                    0,
                    0.016666666666666666,
                    0.03333333333333333,
                    0.05,
                    0.06666666666666667,
                    0.08333333333333333,
                    0.1,
                    0.11666666666666667,
                    0.13333333333333333,
                    0.15
                  ],
                  "xaxis": "x",
                  "y": [
                    10000,
                    16889.80078253795,
                    19184.35957365313,
                    19826.41619461549,
                    19970.036128331387,
                    19995.723986491437,
                    19999.483795013763,
                    19999.94620833525,
                    19999.99511015062,
                    20000
                  ],
                  "yaxis": "y"
                },
                {
                  "hovertemplate": "variable=wide_variable_19<br>x=%{x}<br>value=%{y}<extra></extra>",
                  "legendgroup": "wide_variable_19",
                  "line": {
                    "color": "#FECB52",
                    "dash": "solid"
                  },
                  "marker": {
                    "symbol": "circle"
                  },
                  "mode": "lines",
                  "name": "wide_variable_19",
                  "orientation": "v",
                  "showlegend": true,
                  "type": "scatter",
                  "x": [
                    0,
                    0.016666666666666666,
                    0.03333333333333333,
                    0.05,
                    0.06666666666666667,
                    0.08333333333333333,
                    0.1,
                    0.11666666666666667,
                    0.13333333333333333,
                    0.15
                  ],
                  "xaxis": "x",
                  "y": [
                    10000,
                    16779.860706615927,
                    19123.652908270025,
                    19805.31981689947,
                    19964.760672412893,
                    19994.7118941057,
                    19999.327556295997,
                    19999.926103305632,
                    19999.992914438146,
                    20000
                  ],
                  "yaxis": "y"
                },
                {
                  "hovertemplate": "variable=wide_variable_20<br>x=%{x}<br>value=%{y}<extra></extra>",
                  "legendgroup": "wide_variable_20",
                  "line": {
                    "color": "#636efa",
                    "dash": "solid"
                  },
                  "marker": {
                    "symbol": "circle"
                  },
                  "mode": "lines",
                  "name": "wide_variable_20",
                  "orientation": "v",
                  "showlegend": true,
                  "type": "scatter",
                  "x": [
                    0,
                    0.016666666666666666,
                    0.03333333333333333,
                    0.05,
                    0.06666666666666667,
                    0.08333333333333333,
                    0.1,
                    0.11666666666666667,
                    0.13333333333333333,
                    0.15
                  ],
                  "xaxis": "x",
                  "y": [
                    10000,
                    16674.167668847003,
                    19063.032595917994,
                    19783.33366704953,
                    19958.994962415527,
                    19993.548671504584,
                    19999.13845211061,
                    19999.90045541397,
                    19999.98996300062,
                    20000
                  ],
                  "yaxis": "y"
                },
                {
                  "hovertemplate": "variable=wide_variable_21<br>x=%{x}<br>value=%{y}<extra></extra>",
                  "legendgroup": "wide_variable_21",
                  "line": {
                    "color": "#EF553B",
                    "dash": "solid"
                  },
                  "marker": {
                    "symbol": "circle"
                  },
                  "mode": "lines",
                  "name": "wide_variable_21",
                  "orientation": "v",
                  "showlegend": true,
                  "type": "scatter",
                  "x": [
                    0,
                    0.016666666666666666,
                    0.03333333333333333,
                    0.05,
                    0.06666666666666667,
                    0.08333333333333333,
                    0.1,
                    0.11666666666666667,
                    0.13333333333333333,
                    0.15
                  ],
                  "xaxis": "x",
                  "y": [
                    10000,
                    16572.49204078683,
                    19002.598965827136,
                    19760.52000474784,
                    19952.73883131392,
                    19992.225176665263,
                    19998.912510834067,
                    19999.868248754556,
                    19999.986069138475,
                    20000
                  ],
                  "yaxis": "y"
                },
                {
                  "hovertemplate": "variable=wide_variable_22<br>x=%{x}<br>value=%{y}<extra></extra>",
                  "legendgroup": "wide_variable_22",
                  "line": {
                    "color": "#00cc96",
                    "dash": "solid"
                  },
                  "marker": {
                    "symbol": "circle"
                  },
                  "mode": "lines",
                  "name": "wide_variable_22",
                  "orientation": "v",
                  "showlegend": true,
                  "type": "scatter",
                  "x": [
                    0,
                    0.016666666666666666,
                    0.03333333333333333,
                    0.05,
                    0.06666666666666667,
                    0.08333333333333333,
                    0.1,
                    0.11666666666666667,
                    0.13333333333333333,
                    0.15
                  ],
                  "xaxis": "x",
                  "y": [
                    10000,
                    16474.61948445126,
                    18942.438405564706,
                    19736.93928202659,
                    19945.99433800485,
                    19990.732915663782,
                    19998.645680872098,
                    19999.828376873273,
                    19999.98101769423,
                    20000
                  ],
                  "yaxis": "y"
                },
                {
                  "hovertemplate": "variable=wide_variable_23<br>x=%{x}<br>value=%{y}<extra></extra>",
                  "legendgroup": "wide_variable_23",
                  "line": {
                    "color": "#ab63fa",
                    "dash": "solid"
                  },
                  "marker": {
                    "symbol": "circle"
                  },
                  "mode": "lines",
                  "name": "wide_variable_23",
                  "orientation": "v",
                  "showlegend": true,
                  "type": "scatter",
                  "x": [
                    0,
                    0.016666666666666666,
                    0.03333333333333333,
                    0.05,
                    0.06666666666666667,
                    0.08333333333333333,
                    0.1,
                    0.11666666666666667,
                    0.13333333333333333,
                    0.15
                  ],
                  "xaxis": "x",
                  "y": [
                    10000,
                    16380.349737162955,
                    18882.62512524884,
                    19712.649868258984,
                    19938.76551721424,
                    19989.064074044865,
                    19998.333861469393,
                    19999.779646375842,
                    19999.97456371954,
                    20000
                  ],
                  "yaxis": "y"
                },
                {
                  "hovertemplate": "variable=wide_variable_24<br>x=%{x}<br>value=%{y}<extra></extra>",
                  "legendgroup": "wide_variable_24",
                  "line": {
                    "color": "#FFA15A",
                    "dash": "solid"
                  },
                  "marker": {
                    "symbol": "circle"
                  },
                  "mode": "lines",
                  "name": "wide_variable_24",
                  "orientation": "v",
                  "showlegend": true,
                  "type": "scatter",
                  "x": [
                    0,
                    0.016666666666666666,
                    0.03333333333333333,
                    0.05,
                    0.06666666666666667,
                    0.08333333333333333,
                    0.1,
                    0.11666666666666667,
                    0.13333333333333333,
                    0.15
                  ],
                  "xaxis": "x",
                  "y": [
                    10000,
                    16289.495512050178,
                    18823.222685763183,
                    19687.707859129307,
                    19931.058142265858,
                    19987.21153643136,
                    19997.972932204182,
                    19999.720781447366,
                    19999.966431421395,
                    20000
                  ],
                  "yaxis": "y"
                },
                {
                  "hovertemplate": "variable=wide_variable_25<br>x=%{x}<br>value=%{y}<extra></extra>",
                  "legendgroup": "wide_variable_25",
                  "line": {
                    "color": "#19d3f3",
                    "dash": "solid"
                  },
                  "marker": {
                    "symbol": "circle"
                  },
                  "mode": "lines",
                  "name": "wide_variable_25",
                  "orientation": "v",
                  "showlegend": true,
                  "type": "scatter",
                  "x": [
                    0,
                    0.016666666666666666,
                    0.03333333333333333,
                    0.05,
                    0.06666666666666667,
                    0.08333333333333333,
                    0.1,
                    0.11666666666666667,
                    0.13333333333333333,
                    0.15
                  ],
                  "xaxis": "x",
                  "y": [
                    10000,
                    16201.881500984691,
                    18764.28532534998,
                    19662.166952822226,
                    19922.87950246033,
                    19985.168895873947,
                    19997.558780847532,
                    19999.650429158093,
                    19999.956313399583,
                    20000
                  ],
                  "yaxis": "y"
                },
                {
                  "hovertemplate": "variable=wide_variable_26<br>x=%{x}<br>value=%{y}<extra></extra>",
                  "legendgroup": "wide_variable_26",
                  "line": {
                    "color": "#FF6692",
                    "dash": "solid"
                  },
                  "marker": {
                    "symbol": "circle"
                  },
                  "mode": "lines",
                  "name": "wide_variable_26",
                  "orientation": "v",
                  "showlegend": true,
                  "type": "scatter",
                  "x": [
                    0,
                    0.016666666666666666,
                    0.03333333333333333,
                    0.05,
                    0.06666666666666667,
                    0.08333333333333333,
                    0.1,
                    0.11666666666666667,
                    0.13333333333333333,
                    0.15
                  ],
                  "xaxis": "x",
                  "y": [
                    10000,
                    16117.343468522819,
                    18705.85911350001,
                    19636.07837971301,
                    19914.238196047263,
                    19982.930454367495,
                    19997.087329349764,
                    19999.567165429617,
                    19999.943870181854,
                    20000
                  ],
                  "yaxis": "y"
                },
                {
                  "hovertemplate": "variable=wide_variable_27<br>x=%{x}<br>value=%{y}<extra></extra>",
                  "legendgroup": "wide_variable_27",
                  "line": {
                    "color": "#B6E880",
                    "dash": "solid"
                  },
                  "marker": {
                    "symbol": "circle"
                  },
                  "mode": "lines",
                  "name": "wide_variable_27",
                  "orientation": "v",
                  "showlegend": true,
                  "type": "scatter",
                  "x": [
                    0,
                    0.016666666666666666,
                    0.03333333333333333,
                    0.05,
                    0.06666666666666667,
                    0.08333333333333333,
                    0.1,
                    0.11666666666666667,
                    0.13333333333333333,
                    0.15
                  ],
                  "xaxis": "x",
                  "y": [
                    10000,
                    16035.72742691876,
                    18647.98295653803,
                    19609.490874343857,
                    19905.143939190944,
                    19980.491215865703,
                    19996.554557788728,
                    19999.469501537562,
                    19999.92873005686,
                    20000
                  ],
                  "yaxis": "y"
                },
                {
                  "hovertemplate": "variable=wide_variable_28<br>x=%{x}<br>value=%{y}<extra></extra>",
                  "legendgroup": "wide_variable_28",
                  "line": {
                    "color": "#FF97FF",
                    "dash": "solid"
                  },
                  "marker": {
                    "symbol": "circle"
                  },
                  "mode": "lines",
                  "name": "wide_variable_28",
                  "orientation": "v",
                  "showlegend": true,
                  "type": "scatter",
                  "x": [
                    0,
                    0.016666666666666666,
                    0.03333333333333333,
                    0.05,
                    0.06666666666666667,
                    0.08333333333333333,
                    0.1,
                    0.11666666666666667,
                    0.13333333333333333,
                    0.15
                  ],
                  "xaxis": "x",
                  "y": [
                    10000,
                    15956.888883558917,
                    18590.689475547082,
                    19582.45068053401,
                    19895.607390894795,
                    19977.846873019476,
                    19995.956526177015,
                    19999.355891031326,
                    19999.910489200505,
                    20000
                  ],
                  "yaxis": "y"
                },
                {
                  "hovertemplate": "variable=wide_variable_29<br>x=%{x}<br>value=%{y}<extra></extra>",
                  "legendgroup": "wide_variable_29",
                  "line": {
                    "color": "#FECB52",
                    "dash": "solid"
                  },
                  "marker": {
                    "symbol": "circle"
                  },
                  "mode": "lines",
                  "name": "wide_variable_29",
                  "orientation": "v",
                  "showlegend": true,
                  "type": "scatter",
                  "x": [
                    0,
                    0.016666666666666666,
                    0.03333333333333333,
                    0.05,
                    0.06666666666666667,
                    0.08333333333333333,
                    0.1,
                    0.11666666666666667,
                    0.13333333333333333,
                    0.15
                  ],
                  "xaxis": "x",
                  "y": [
                    10000,
                    15880.692153256738,
                    18534.0057741456,
                    19555.0015821676,
                    19885.639993531255,
                    19974.99378875282,
                    19995.28939407842,
                    19999.224736957945,
                    19999.88871208622,
                    20000
                  ],
                  "yaxis": "y"
                },
                {
                  "hovertemplate": "variable=wide_variable_30<br>x=%{x}<br>value=%{y}<extra></extra>",
                  "legendgroup": "wide_variable_30",
                  "line": {
                    "color": "#636efa",
                    "dash": "solid"
                  },
                  "marker": {
                    "symbol": "circle"
                  },
                  "mode": "lines",
                  "name": "wide_variable_30",
                  "orientation": "v",
                  "showlegend": true,
                  "type": "scatter",
                  "x": [
                    0,
                    0.016666666666666666,
                    0.03333333333333333,
                    0.05,
                    0.06666666666666667,
                    0.08333333333333333,
                    0.1,
                    0.11666666666666667,
                    0.13333333333333333,
                    0.15
                  ],
                  "xaxis": "x",
                  "y": [
                    10000,
                    15807.009728780864,
                    18477.954111016526,
                    19527.184953598786,
                    19875.253828396966,
                    19971.928973677055,
                    19994.549438027734,
                    19999.07439928452,
                    19999.862932166485,
                    20000
                  ],
                  "yaxis": "y"
                },
                {
                  "hovertemplate": "variable=wide_variable_31<br>x=%{x}<br>value=%{y}<extra></extra>",
                  "legendgroup": "wide_variable_31",
                  "line": {
                    "color": "#EF553B",
                    "dash": "solid"
                  },
                  "marker": {
                    "symbol": "circle"
                  },
                  "mode": "lines",
                  "name": "wide_variable_31",
                  "orientation": "v",
                  "showlegend": true,
                  "type": "scatter",
                  "x": [
                    0,
                    0.016666666666666666,
                    0.03333333333333333,
                    0.05,
                    0.06666666666666667,
                    0.08333333333333333,
                    0.1,
                    0.11666666666666667,
                    0.13333333333333333,
                    0.15
                  ],
                  "xaxis": "x",
                  "y": [
                    10000,
                    15735.721703789986,
                    18422.552489894257,
                    19499.03982475968,
                    19864.461485558833,
                    19968.650060234133,
                    19993.73306678489,
                    19998.903202422567,
                    19999.83265280926,
                    20000
                  ],
                  "yaxis": "y"
                },
                {
                  "hovertemplate": "variable=wide_variable_32<br>x=%{x}<br>value=%{y}<extra></extra>",
                  "legendgroup": "wide_variable_32",
                  "line": {
                    "color": "#00cc96",
                    "dash": "solid"
                  },
                  "marker": {
                    "symbol": "circle"
                  },
                  "mode": "lines",
                  "name": "wide_variable_32",
                  "orientation": "v",
                  "showlegend": true,
                  "type": "scatter",
                  "x": [
                    0,
                    0.016666666666666666,
                    0.03333333333333333,
                    0.05,
                    0.06666666666666667,
                    0.08333333333333333,
                    0.1,
                    0.11666666666666667,
                    0.13333333333333333,
                    0.15
                  ],
                  "xaxis": "x",
                  "y": [
                    10000,
                    15666.71524303688,
                    18367.81517787291,
                    19470.60295699935,
                    19853.275947157963,
                    19965.155274353732,
                    19992.836834482943,
                    19998.709442766438,
                    19999.797348470904,
                    20000
                  ],
                  "yaxis": "y"
                },
                {
                  "hovertemplate": "variable=wide_variable_33<br>x=%{x}<br>value=%{y}<extra></extra>",
                  "legendgroup": "wide_variable_33",
                  "line": {
                    "color": "#ab63fa",
                    "dash": "solid"
                  },
                  "marker": {
                    "symbol": "circle"
                  },
                  "mode": "lines",
                  "name": "wide_variable_33",
                  "orientation": "v",
                  "showlegend": true,
                  "type": "scatter",
                  "x": [
                    0,
                    0.016666666666666666,
                    0.03333333333333333,
                    0.05,
                    0.06666666666666667,
                    0.08333333333333333,
                    0.1,
                    0.11666666666666667,
                    0.13333333333333333,
                    0.15
                  ],
                  "xaxis": "x",
                  "y": [
                    10000,
                    15599.88409529903,
                    18313.75316134556,
                    19441.90892645437,
                    19841.71048328278,
                    19961.44340530981,
                    19991.85745175274,
                    19998.49139616764,
                    19999.7564660848,
                    20000
                  ],
                  "yaxis": "y"
                },
                {
                  "hovertemplate": "variable=wide_variable_34<br>x=%{x}<br>value=%{y}<extra></extra>",
                  "legendgroup": "wide_variable_34",
                  "line": {
                    "color": "#FFA15A",
                    "dash": "solid"
                  },
                  "marker": {
                    "symbol": "circle"
                  },
                  "mode": "lines",
                  "name": "wide_variable_34",
                  "orientation": "v",
                  "showlegend": true,
                  "type": "scatter",
                  "x": [
                    0,
                    0.016666666666666666,
                    0.03333333333333333,
                    0.05,
                    0.06666666666666667,
                    0.08333333333333333,
                    0.1,
                    0.11666666666666667,
                    0.13333333333333333,
                    0.15
                  ],
                  "xaxis": "x",
                  "y": [
                    10000,
                    15535.128145008119,
                    18260.374547571504,
                    19412.990212385583,
                    19829.778559500057,
                    19957.51377436962,
                    19990.79179492414,
                    19998.247325276065,
                    19999.70942664395,
                    20000
                  ],
                  "yaxis": "y"
                },
                {
                  "hovertemplate": "variable=wide_variable_35<br>x=%{x}<br>value=%{y}<extra></extra>",
                  "legendgroup": "wide_variable_35",
                  "line": {
                    "color": "#19d3f3",
                    "dash": "solid"
                  },
                  "marker": {
                    "symbol": "circle"
                  },
                  "mode": "lines",
                  "name": "wide_variable_35",
                  "orientation": "v",
                  "showlegend": true,
                  "type": "scatter",
                  "x": [
                    0,
                    0.016666666666666666,
                    0.03333333333333333,
                    0.05,
                    0.06666666666666667,
                    0.08333333333333333,
                    0.1,
                    0.11666666666666667,
                    0.13333333333333333,
                    0.15
                  ],
                  "xaxis": "x",
                  "y": [
                    10000,
                    15472.352998998007,
                    18207.684918756247,
                    19383.877288435313,
                    19817.4937551341,
                    19953.366202743804,
                    19989.63691341629,
                    19997.975486688396,
                    19999.65562695459,
                    20000
                  ],
                  "yaxis": "y"
                },
                {
                  "hovertemplate": "variable=wide_variable_36<br>x=%{x}<br>value=%{y}<extra></extra>",
                  "legendgroup": "wide_variable_36",
                  "line": {
                    "color": "#FF6692",
                    "dash": "solid"
                  },
                  "marker": {
                    "symbol": "circle"
                  },
                  "mode": "lines",
                  "name": "wide_variable_36",
                  "orientation": "v",
                  "showlegend": true,
                  "type": "scatter",
                  "x": [
                    0,
                    0.016666666666666666,
                    0.03333333333333333,
                    0.05,
                    0.06666666666666667,
                    0.08333333333333333,
                    0.1,
                    0.11666666666666667,
                    0.13333333333333333,
                    0.15
                  ],
                  "xaxis": "x",
                  "y": [
                    10000,
                    15411.469605180206,
                    18155.68764458445,
                    19354.59871518349,
                    19804.869691403255,
                    19949.000979269138,
                    19988.390035437853,
                    19997.674137852802,
                    19999.594441537694,
                    20000
                  ],
                  "yaxis": "y"
                },
                {
                  "hovertemplate": "variable=wide_variable_37<br>x=%{x}<br>value=%{y}<extra></extra>",
                  "legendgroup": "wide_variable_37",
                  "line": {
                    "color": "#B6E880",
                    "dash": "solid"
                  },
                  "marker": {
                    "symbol": "circle"
                  },
                  "mode": "lines",
                  "name": "wide_variable_37",
                  "orientation": "v",
                  "showlegend": true,
                  "type": "scatter",
                  "x": [
                    0,
                    0.016666666666666666,
                    0.03333333333333333,
                    0.05,
                    0.06666666666666667,
                    0.08333333333333333,
                    0.1,
                    0.11666666666666667,
                    0.13333333333333333,
                    0.15
                  ],
                  "xaxis": "x",
                  "y": [
                    10000,
                    15352.393900295983,
                    18104.38415834173,
                    19325.181232729232,
                    19791.919968555605,
                    19944.418828186474,
                    19987.04857212318,
                    19997.341543687482,
                    19999.525224654975,
                    20000
                  ],
                  "yaxis": "y"
                },
                {
                  "hovertemplate": "variable=wide_variable_38<br>x=%{x}<br>value=%{y}<extra></extra>",
                  "legendgroup": "wide_variable_38",
                  "line": {
                    "color": "#FF97FF",
                    "dash": "solid"
                  },
                  "marker": {
                    "symbol": "circle"
                  },
                  "mode": "lines",
                  "name": "wide_variable_38",
                  "orientation": "v",
                  "showlegend": true,
                  "type": "scatter",
                  "x": [
                    0,
                    0.016666666666666666,
                    0.03333333333333333,
                    0.05,
                    0.06666666666666667,
                    0.08333333333333333,
                    0.1,
                    0.11666666666666667,
                    0.13333333333333333,
                    0.15
                  ],
                  "xaxis": "x",
                  "y": [
                    10000,
                    15295.04648419206,
                    18053.77420107497,
                    19295.649852306724,
                    19778.658111185934,
                    19939.620877314475,
                    19985.610120232617,
                    19996.975982878317,
                    19999.447312436634,
                    20000
                  ],
                  "yaxis": "y"
                },
                {
                  "hovertemplate": "variable=wide_variable_39<br>x=%{x}<br>value=%{y}<extra></extra>",
                  "legendgroup": "wide_variable_39",
                  "line": {
                    "color": "#FECB52",
                    "dash": "solid"
                  },
                  "marker": {
                    "symbol": "circle"
                  },
                  "mode": "lines",
                  "name": "wide_variable_39",
                  "orientation": "v",
                  "showlegend": true,
                  "type": "scatter",
                  "x": [
                    0,
                    0.016666666666666666,
                    0.03333333333333333,
                    0.05,
                    0.06666666666666667,
                    0.08333333333333333,
                    0.1,
                    0.11666666666666667,
                    0.13333333333333333,
                    0.15
                  ],
                  "xaxis": "x",
                  "y": [
                    10000,
                    15239.352318328385,
                    18003.856037654255,
                    19266.0279461757,
                    19765.097520962376,
                    19934.608626865316,
                    19984.072463544555,
                    19996.575753828423,
                    19999.360025088245,
                    20000
                  ],
                  "yaxis": "y"
                },
                {
                  "hovertemplate": "variable=wide_variable_40<br>x=%{x}<br>value=%{y}<extra></extra>",
                  "legendgroup": "wide_variable_40",
                  "line": {
                    "color": "#636efa",
                    "dash": "solid"
                  },
                  "marker": {
                    "symbol": "circle"
                  },
                  "mode": "lines",
                  "name": "wide_variable_40",
                  "orientation": "v",
                  "showlegend": true,
                  "type": "scatter",
                  "x": [
                    0,
                    0.016666666666666666,
                    0.03333333333333333,
                    0.05,
                    0.06666666666666667,
                    0.08333333333333333,
                    0.1,
                    0.11666666666666667,
                    0.13333333333333333,
                    0.15
                  ],
                  "xaxis": "x",
                  "y": [
                    10000,
                    15185.24044645695,
                    17954.626648095873,
                    19236.337335213415,
                    19751.25143604059,
                    19929.383919100168,
                    19982.433573065537,
                    19996.139180238955,
                    19999.262669155374,
                    20000
                  ],
                  "yaxis": "y"
                },
                {
                  "hovertemplate": "variable=wide_variable_41<br>x=%{x}<br>value=%{y}<extra></extra>",
                  "legendgroup": "wide_variable_41",
                  "line": {
                    "color": "#EF553B",
                    "dash": "solid"
                  },
                  "marker": {
                    "symbol": "circle"
                  },
                  "mode": "lines",
                  "name": "wide_variable_41",
                  "orientation": "v",
                  "showlegend": true,
                  "type": "scatter",
                  "x": [
                    0,
                    0.016666666666666666,
                    0.03333333333333333,
                    0.05,
                    0.06666666666666667,
                    0.08333333333333333,
                    0.1,
                    0.11666666666666667,
                    0.13333333333333333,
                    0.15
                  ],
                  "xaxis": "x",
                  "y": [
                    10000,
                    15132.643735613516,
                    17906.081897074462,
                    19206.59837378699,
                    19737.132896493877,
                    19923.948908980423,
                    19980.6916061803,
                    19995.66461630633,
                    19999.15453982556,
                    20000
                  ],
                  "yaxis": "y"
                },
                {
                  "hovertemplate": "variable=wide_variable_42<br>x=%{x}<br>value=%{y}<extra></extra>",
                  "legendgroup": "wide_variable_42",
                  "line": {
                    "color": "#00cc96",
                    "dash": "solid"
                  },
                  "marker": {
                    "symbol": "circle"
                  },
                  "mode": "lines",
                  "name": "wide_variable_42",
                  "orientation": "v",
                  "showlegend": true,
                  "type": "scatter",
                  "x": [
                    0,
                    0.016666666666666666,
                    0.03333333333333333,
                    0.05,
                    0.06666666666666667,
                    0.08333333333333333,
                    0.1,
                    0.11666666666666667,
                    0.13333333333333333,
                    0.15
                  ],
                  "xaxis": "x",
                  "y": [
                    10000,
                    15081.498635744523,
                    17858.216684179883,
                    19176.830031607315,
                    19722.75471513822,
                    19918.306035933874,
                    19978.844904859412,
                    19995.150451526948,
                    19999.03492324822,
                    20000
                  ],
                  "yaxis": "y"
                },
                {
                  "hovertemplate": "variable=wide_variable_43<br>x=%{x}<br>value=%{y}<extra></extra>",
                  "legendgroup": "wide_variable_43",
                  "line": {
                    "color": "#ab63fa",
                    "dash": "solid"
                  },
                  "marker": {
                    "symbol": "circle"
                  },
                  "mode": "lines",
                  "name": "wide_variable_43",
                  "orientation": "v",
                  "showlegend": true,
                  "type": "scatter",
                  "x": [
                    0,
                    0.016666666666666666,
                    0.03333333333333333,
                    0.05,
                    0.06666666666666667,
                    0.08333333333333333,
                    0.1,
                    0.11666666666666667,
                    0.13333333333333333,
                    0.15
                  ],
                  "xaxis": "x",
                  "y": [
                    10000,
                    15031.7449564507,
                    17811.02507715399,
                    19147.049972364068,
                    19708.129453180885,
                    19912.457996823963,
                    19976.89199303666,
                    19994.59511510487,
                    19998.90309885453,
                    20000
                  ],
                  "yaxis": "y"
                },
                {
                  "hovertemplate": "variable=wide_variable_44<br>x=%{x}<br>value=%{y}<extra></extra>",
                  "legendgroup": "wide_variable_44",
                  "line": {
                    "color": "#FFA15A",
                    "dash": "solid"
                  },
                  "marker": {
                    "symbol": "circle"
                  },
                  "mode": "lines",
                  "name": "wide_variable_44",
                  "orientation": "v",
                  "showlegend": true,
                  "type": "scatter",
                  "x": [
                    0,
                    0.016666666666666666,
                    0.03333333333333333,
                    0.05,
                    0.06666666666666667,
                    0.08333333333333333,
                    0.1,
                    0.11666666666666667,
                    0.13333333333333333,
                    0.15
                  ],
                  "xaxis": "x",
                  "y": [
                    10000,
                    14983.325659471115,
                    17764.50043006497,
                    19117.274629019925,
                    19693.269400168894,
                    19906.407720183208,
                    19974.831573261523,
                    19993.997079962315,
                    19998.75834166077,
                    20000
                  ],
                  "yaxis": "y"
                },
                {
                  "hovertemplate": "variable=wide_variable_45<br>x=%{x}<br>value=%{y}<extra></extra>",
                  "legendgroup": "wide_variable_45",
                  "line": {
                    "color": "#19d3f3",
                    "dash": "solid"
                  },
                  "marker": {
                    "symbol": "circle"
                  },
                  "mode": "lines",
                  "name": "wide_variable_45",
                  "orientation": "v",
                  "showlegend": true,
                  "type": "scatter",
                  "x": [
                    0,
                    0.016666666666666666,
                    0.03333333333333333,
                    0.05,
                    0.06666666666666667,
                    0.08333333333333333,
                    0.1,
                    0.11666666666666667,
                    0.13333333333333333,
                    0.15
                  ],
                  "xaxis": "x",
                  "y": [
                    10000,
                    14936.186665657871,
                    17718.635488137134,
                    19087.519275704646,
                    19678.186557759407,
                    19900.158341748767,
                    19972.662522726416,
                    19993.354866356585,
                    19998.599924539874,
                    20000
                  ],
                  "yaxis": "y"
                },
                {
                  "hovertemplate": "variable=wide_variable_46<br>x=%{x}<br>value=%{y}<extra></extra>",
                  "legendgroup": "wide_variable_46",
                  "line": {
                    "color": "#FF6692",
                    "dash": "solid"
                  },
                  "marker": {
                    "symbol": "circle"
                  },
                  "mode": "lines",
                  "name": "wide_variable_46",
                  "orientation": "v",
                  "showlegend": true,
                  "type": "scatter",
                  "x": [
                    0,
                    0.016666666666666666,
                    0.03333333333333333,
                    0.05,
                    0.06666666666666667,
                    0.08333333333333333,
                    0.1,
                    0.11666666666666667,
                    0.13333333333333333,
                    0.15
                  ],
                  "xaxis": "x",
                  "y": [
                    10000,
                    14890.276675304742,
                    17673.422480745496,
                    19057.798096199032,
                    19662.89262687714,
                    19893.713181319512,
                    19970.3838887607,
                    19992.66704511001,
                    19998.427120447624,
                    20000
                  ],
                  "yaxis": "y"
                },
                {
                  "hovertemplate": "variable=wide_variable_47<br>x=%{x}<br>value=%{y}<extra></extra>",
                  "legendgroup": "wide_variable_47",
                  "line": {
                    "color": "#B6E880",
                    "dash": "solid"
                  },
                  "marker": {
                    "symbol": "circle"
                  },
                  "mode": "lines",
                  "name": "wide_variable_47",
                  "orientation": "v",
                  "showlegend": true,
                  "type": "scatter",
                  "x": [
                    0,
                    0.016666666666666666,
                    0.03333333333333333,
                    0.05,
                    0.06666666666666667,
                    0.08333333333333333,
                    0.1,
                    0.11666666666666667,
                    0.13333333333333333,
                    0.15
                  ],
                  "xaxis": "x",
                  "y": [
                    10000,
                    14845.54700079438,
                    17628.853203903756,
                    19028.12424903673,
                    19647.398997864097,
                    19887.075720937286,
                    19967.9948838771,
                    19991.932240462196,
                    19998.2392045911,
                    20000
                  ],
                  "yaxis": "y"
                },
                {
                  "hovertemplate": "variable=wide_variable_48<br>x=%{x}<br>value=%{y}<extra></extra>",
                  "legendgroup": "wide_variable_48",
                  "line": {
                    "color": "#FF97FF",
                    "dash": "solid"
                  },
                  "marker": {
                    "symbol": "circle"
                  },
                  "mode": "lines",
                  "name": "wide_variable_48",
                  "orientation": "v",
                  "showlegend": true,
                  "type": "scatter",
                  "x": [
                    0,
                    0.016666666666666666,
                    0.03333333333333333,
                    0.05,
                    0.06666666666666667,
                    0.08333333333333333,
                    0.1,
                    0.11666666666666667,
                    0.13333333333333333,
                    0.15
                  ],
                  "xaxis": "x",
                  "y": [
                    10000,
                    14801.951410619458,
                    17584.919093416524,
                    18998.50992928228,
                    19631.716743264675,
                    19880.24958438217,
                    19965.494880449078,
                    19991.149132556333,
                    19998.03545652877,
                    20000
                  ],
                  "yaxis": "y"
                },
                {
                  "hovertemplate": "variable=wide_variable_49<br>x=%{x}<br>value=%{y}<extra></extra>",
                  "legendgroup": "wide_variable_49",
                  "line": {
                    "color": "#FECB52",
                    "dash": "solid"
                  },
                  "marker": {
                    "symbol": "circle"
                  },
                  "mode": "lines",
                  "name": "wide_variable_49",
                  "orientation": "v",
                  "showlegend": true,
                  "type": "scatter",
                  "x": [
                    0,
                    0.016666666666666666,
                    0.03333333333333333,
                    0.05,
                    0.06666666666666667,
                    0.08333333333333333,
                    0.1,
                    0.11666666666666667,
                    0.13333333333333333,
                    0.15
                  ],
                  "xaxis": "x",
                  "y": [
                    10000,
                    14759.445983914944,
                    17541.611289729128,
                    18968.966427065247,
                    19615.856612923893,
                    19873.238517960763,
                    19962.883405091256,
                    19990.316459572692,
                    19997.815162192765,
                    20000
                  ],
                  "yaxis": "y"
                },
                {
                  "hovertemplate": "variable=wide_variable_50<br>x=%{x}<br>value=%{y}<extra></extra>",
                  "legendgroup": "wide_variable_50",
                  "line": {
                    "color": "#636efa",
                    "dash": "solid"
                  },
                  "marker": {
                    "symbol": "circle"
                  },
                  "mode": "lines",
                  "name": "wide_variable_50",
                  "orientation": "v",
                  "showlegend": true,
                  "type": "scatter",
                  "x": [
                    0,
                    0.016666666666666666,
                    0.03333333333333333,
                    0.05,
                    0.06666666666666667,
                    0.08333333333333333,
                    0.1,
                    0.11666666666666667,
                    0.13333333333333333,
                    0.15
                  ],
                  "xaxis": "x",
                  "y": [
                    10000,
                    14717.988974712283,
                    17498.920695388417,
                    18939.50418296802,
                    19599.82903110866,
                    19866.046372557506,
                    19960.160132807974,
                    19989.433019524255,
                    19997.577615825387,
                    20000
                  ],
                  "yaxis": "y"
                },
                {
                  "hovertemplate": "variable=wide_variable_51<br>x=%{x}<br>value=%{y}<extra></extra>",
                  "legendgroup": "wide_variable_51",
                  "line": {
                    "color": "#EF553B",
                    "dash": "solid"
                  },
                  "marker": {
                    "symbol": "circle"
                  },
                  "mode": "lines",
                  "name": "wide_variable_51",
                  "orientation": "v",
                  "showlegend": true,
                  "type": "scatter",
                  "x": [
                    0,
                    0.016666666666666666,
                    0.03333333333333333,
                    0.05,
                    0.06666666666666667,
                    0.08333333333333333,
                    0.1,
                    0.11666666666666667,
                    0.13333333333333333,
                    0.15
                  ],
                  "xaxis": "x",
                  "y": [
                    10000,
                    14677.540685192542,
                    17456.838025922843,
                    18910.13284037571,
                    19583.644095391333,
                    19858.677086912616,
                    19957.32488096937,
                    19988.497671730303,
                    19997.322121822974,
                    20000
                  ],
                  "yaxis": "y"
                },
                {
                  "hovertemplate": "variable=wide_variable_52<br>x=%{x}<br>value=%{y}<extra></extra>",
                  "legendgroup": "wide_variable_52",
                  "line": {
                    "color": "#00cc96",
                    "dash": "solid"
                  },
                  "marker": {
                    "symbol": "circle"
                  },
                  "mode": "lines",
                  "name": "wide_variable_52",
                  "orientation": "v",
                  "showlegend": true,
                  "type": "scatter",
                  "x": [
                    0,
                    0.016666666666666666,
                    0.03333333333333333,
                    0.05,
                    0.06666666666666667,
                    0.08333333333333333,
                    0.1,
                    0.11666666666666667,
                    0.13333333333333333,
                    0.15
                  ],
                  "xaxis": "x",
                  "y": [
                    10000,
                    14638.063347275905,
                    17415.353854857734,
                    18880.8612949055,
                    19567.3115770618,
                    19851.134672084634,
                    19954.377603167995,
                    19987.509337984677,
                    19997.047996482,
                    20000
                  ],
                  "yaxis": "y"
                },
                {
                  "hovertemplate": "variable=wide_variable_53<br>x=%{x}<br>value=%{y}<extra></extra>",
                  "legendgroup": "wide_variable_53",
                  "line": {
                    "color": "#ab63fa",
                    "dash": "solid"
                  },
                  "marker": {
                    "symbol": "circle"
                  },
                  "mode": "lines",
                  "name": "wide_variable_53",
                  "orientation": "v",
                  "showlegend": true,
                  "type": "scatter",
                  "x": [
                    0,
                    0.016666666666666666,
                    0.03333333333333333,
                    0.05,
                    0.06666666666666667,
                    0.08333333333333333,
                    0.1,
                    0.11666666666666667,
                    0.13333333333333333,
                    0.15
                  ],
                  "xaxis": "x",
                  "y": [
                    10000,
                    14599.52101193901,
                    17374.458653501064,
                    18851.697741037467,
                    19550.840922859003,
                    19843.423197051852,
                    19951.318383003538,
                    19986.467003436086,
                    19996.75456964268,
                    20000
                  ],
                  "yaxis": "y"
                },
                {
                  "hovertemplate": "variable=wide_variable_54<br>x=%{x}<br>value=%{y}<extra></extra>",
                  "legendgroup": "wide_variable_54",
                  "line": {
                    "color": "#FFA15A",
                    "dash": "solid"
                  },
                  "marker": {
                    "symbol": "circle"
                  },
                  "mode": "lines",
                  "name": "wide_variable_54",
                  "orientation": "v",
                  "showlegend": true,
                  "type": "scatter",
                  "x": [
                    0,
                    0.016666666666666666,
                    0.03333333333333333,
                    0.05,
                    0.06666666666666667,
                    0.08333333333333333,
                    0.1,
                    0.11666666666666667,
                    0.13333333333333333,
                    0.15
                  ],
                  "xaxis": "x",
                  "y": [
                    10000,
                    14561.879445701215,
                    17334.1428260639,
                    18822.64971607172,
                    19534.241257835012,
                    19835.546775404026,
                    19948.147427837815,
                    19985.369717197787,
                    19996.44118622724,
                    20000
                  ],
                  "yaxis": "y"
                },
                {
                  "hovertemplate": "variable=wide_variable_55<br>x=%{x}<br>value=%{y}<extra></extra>",
                  "legendgroup": "wide_variable_55",
                  "line": {
                    "color": "#19d3f3",
                    "dash": "solid"
                  },
                  "marker": {
                    "symbol": "circle"
                  },
                  "mode": "lines",
                  "name": "wide_variable_55",
                  "orientation": "v",
                  "showlegend": true,
                  "type": "scatter",
                  "x": [
                    0,
                    0.016666666666666666,
                    0.03333333333333333,
                    0.05,
                    0.06666666666666667,
                    0.08333333333333333,
                    0.1,
                    0.11666666666666667,
                    0.13333333333333333,
                    0.15
                  ],
                  "xaxis": "x",
                  "y": [
                    10000,
                    14525.10603376557,
                    17294.396740616772,
                    18793.724141537423,
                    19517.521389185047,
                    19827.50955307391,
                    19944.865062557357,
                    19984.216592704503,
                    19996.107207670393,
                    20000
                  ],
                  "yaxis": "y"
                },
                {
                  "hovertemplate": "variable=wide_variable_56<br>x=%{x}<br>value=%{y}<extra></extra>",
                  "legendgroup": "wide_variable_56",
                  "line": {
                    "color": "#FF6692",
                    "dash": "solid"
                  },
                  "marker": {
                    "symbol": "circle"
                  },
                  "mode": "lines",
                  "name": "wide_variable_56",
                  "orientation": "v",
                  "showlegend": true,
                  "type": "scatter",
                  "x": [
                    0,
                    0.016666666666666666,
                    0.03333333333333333,
                    0.05,
                    0.06666666666666667,
                    0.08333333333333333,
                    0.1,
                    0.11666666666666667,
                    0.13333333333333333,
                    0.15
                  ],
                  "xaxis": "x",
                  "y": [
                    10000,
                    14489.169689341059,
                    17255.210756328463,
                    18764.927362178518,
                    19500.689810895263,
                    19819.31569705732,
                    19941.471723376148,
                    19983.006807834205,
                    19995.75201324078,
                    20000
                  ],
                  "yaxis": "y"
                },
                {
                  "hovertemplate": "variable=wide_variable_57<br>x=%{x}<br>value=%{y}<extra></extra>",
                  "legendgroup": "wide_variable_57",
                  "line": {
                    "color": "#B6E880",
                    "dash": "solid"
                  },
                  "marker": {
                    "symbol": "circle"
                  },
                  "mode": "lines",
                  "name": "wide_variable_57",
                  "orientation": "v",
                  "showlegend": true,
                  "type": "scatter",
                  "x": [
                    0,
                    0.016666666666666666,
                    0.03333333333333333,
                    0.05,
                    0.06666666666666667,
                    0.08333333333333333,
                    0.1,
                    0.11666666666666667,
                    0.13333333333333333,
                    0.15
                  ],
                  "xaxis": "x",
                  "y": [
                    10000,
                    14454.040768709965,
                    17216.575247384473,
                    18736.265182639087,
                    19483.754709076904,
                    19810.969385069926,
                    19937.967951707047,
                    19981.739604812046,
                    19995.37500125298,
                    20000
                  ],
                  "yaxis": "y"
                },
                {
                  "hovertemplate": "variable=wide_variable_58<br>x=%{x}<br>value=%{y}<extra></extra>",
                  "legendgroup": "wide_variable_58",
                  "line": {
                    "color": "#FF97FF",
                    "dash": "solid"
                  },
                  "marker": {
                    "symbol": "circle"
                  },
                  "mode": "lines",
                  "name": "wide_variable_58",
                  "orientation": "v",
                  "showlegend": true,
                  "type": "scatter",
                  "x": [
                    0,
                    0.016666666666666666,
                    0.03333333333333333,
                    0.05,
                    0.06666666666666667,
                    0.08333333333333333,
                    0.1,
                    0.11666666666666667,
                    0.13333333333333333,
                    0.15
                  ],
                  "xaxis": "x",
                  "y": [
                    10000,
                    14419.690991637995,
                    17178.48062393981,
                    18707.74290196839,
                    19466.723967869813,
                    19802.47479608926,
                    19934.35438812626,
                    19980.414289913664,
                    19994.97559017035,
                    20000
                  ],
                  "yaxis": "y"
                },
                {
                  "hovertemplate": "variable=wide_variable_59<br>x=%{x}<br>value=%{y}<extra></extra>",
                  "legendgroup": "wide_variable_59",
                  "line": {
                    "color": "#FECB52",
                    "dash": "solid"
                  },
                  "marker": {
                    "symbol": "circle"
                  },
                  "mode": "lines",
                  "name": "wide_variable_59",
                  "orientation": "v",
                  "showlegend": true,
                  "type": "scatter",
                  "x": [
                    0,
                    0.016666666666666666,
                    0.03333333333333333,
                    0.05,
                    0.06666666666666667,
                    0.08333333333333333,
                    0.1,
                    0.11666666666666667,
                    0.13333333333333333,
                    0.15
                  ],
                  "xaxis": "x",
                  "y": [
                    10000,
                    14386.093366755882,
                    17140.917350422016,
                    18679.365346062383,
                    19449.60517581251,
                    19793.8361017312,
                    19930.63176645194,
                    19979.030232984416,
                    19994.553219599693,
                    20000
                  ],
                  "yaxis": "y"
                },
                {
                  "hovertemplate": "variable=wide_variable_60<br>x=%{x}<br>value=%{y}<extra></extra>",
                  "legendgroup": "wide_variable_60",
                  "line": {
                    "color": "#636efa",
                    "dash": "solid"
                  },
                  "marker": {
                    "symbol": "circle"
                  },
                  "mode": "lines",
                  "name": "wide_variable_60",
                  "orientation": "v",
                  "showlegend": true,
                  "type": "scatter",
                  "x": [
                    0,
                    0.016666666666666666,
                    0.03333333333333333,
                    0.05,
                    0.06666666666666667,
                    0.08333333333333333,
                    0.1,
                    0.11666666666666667,
                    0.13333333333333333,
                    0.15
                  ],
                  "xaxis": "x",
                  "y": [
                    10000,
                    14353.22212156935,
                    17103.875961467085,
                    18651.136898154335,
                    19432.405632587423,
                    19785.05745841099,
                    19926.80090795445,
                    19977.586866790833,
                    19994.107351179322,
                    20000
                  ],
                  "yaxis": "y"
                },
                {
                  "hovertemplate": "variable=wide_variable_61<br>x=%{x}<br>value=%{y}<extra></extra>",
                  "legendgroup": "wide_variable_61",
                  "line": {
                    "color": "#EF553B",
                    "dash": "solid"
                  },
                  "marker": {
                    "symbol": "circle"
                  },
                  "mode": "lines",
                  "name": "wide_variable_61",
                  "orientation": "v",
                  "showlegend": true,
                  "type": "scatter",
                  "x": [
                    0,
                    0.016666666666666666,
                    0.03333333333333333,
                    0.05,
                    0.06666666666666667,
                    0.08333333333333333,
                    0.1,
                    0.11666666666666667,
                    0.13333333333333333,
                    0.15
                  ],
                  "xaxis": "x",
                  "y": [
                    10000,
                    14321.05263678053,
                    17067.347075740432,
                    18623.061527463084,
                    19415.132356061426,
                    19776.143000240445,
                    19922.86271571306,
                    19976.083686219637,
                    19993.63746936272,
                    20000
                  ],
                  "yaxis": "y"
                },
                {
                  "hovertemplate": "variable=wide_variable_62<br>x=%{x}<br>value=%{y}<extra></extra>",
                  "legendgroup": "wide_variable_62",
                  "line": {
                    "color": "#00cc96",
                    "dash": "solid"
                  },
                  "marker": {
                    "symbol": "circle"
                  },
                  "mode": "lines",
                  "name": "wide_variable_62",
                  "orientation": "v",
                  "showlegend": true,
                  "type": "scatter",
                  "x": [
                    0,
                    0.016666666666666666,
                    0.03333333333333333,
                    0.05,
                    0.06666666666666667,
                    0.08333333333333333,
                    0.1,
                    0.11666666666666667,
                    0.13333333333333333,
                    0.15
                  ],
                  "xaxis": "x",
                  "y": [
                    10000,
                    14289.561384627368,
                    17031.32140786871,
                    18595.142816102958,
                    19397.792089551076,
                    19767.096832614316,
                    19918.818169131067,
                    19974.52024733957,
                    19993.143082100287,
                    20000
                  ],
                  "yaxis": "y"
                },
                {
                  "hovertemplate": "variable=wide_variable_63<br>x=%{x}<br>value=%{y}<extra></extra>",
                  "legendgroup": "wide_variable_63",
                  "line": {
                    "color": "#ab63fa",
                    "dash": "solid"
                  },
                  "marker": {
                    "symbol": "circle"
                  },
                  "mode": "lines",
                  "name": "wide_variable_63",
                  "orientation": "v",
                  "showlegend": true,
                  "type": "scatter",
                  "x": [
                    0,
                    0.016666666666666666,
                    0.03333333333333333,
                    0.05,
                    0.06666666666666667,
                    0.08333333333333333,
                    0.1,
                    0.11666666666666667,
                    0.13333333333333333,
                    0.15
                  ],
                  "xaxis": "x",
                  "y": [
                    10000,
                    14258.725870969685,
                    16995.78977868438,
                    18567.38398435474,
                    19380.391309250794,
                    19757.923026440654,
                    19914.668318619053,
                    19972.89616633989,
                    19992.62372142226,
                    20000
                  ],
                  "yaxis": "y"
                },
                {
                  "hovertemplate": "variable=wide_variable_64<br>x=%{x}<br>value=%{y}<extra></extra>",
                  "legendgroup": "wide_variable_64",
                  "line": {
                    "color": "#FFA15A",
                    "dash": "solid"
                  },
                  "marker": {
                    "symbol": "circle"
                  },
                  "mode": "lines",
                  "name": "wide_variable_64",
                  "orientation": "v",
                  "showlegend": true,
                  "type": "scatter",
                  "x": [
                    0,
                    0.016666666666666666,
                    0.03333333333333333,
                    0.05,
                    0.06666666666666667,
                    0.08333333333333333,
                    0.1,
                    0.11666666666666667,
                    0.13333333333333333,
                    0.15
                  ],
                  "xaxis": "x",
                  "y": [
                    10000,
                    14228.524580870353,
                    16960.743123963915,
                    18539.78791439244,
                    19362.936231770225,
                    19748.625612971697,
                    19910.414280453624,
                    19971.211118359683,
                    19992.078943926037,
                    20000
                  ],
                  "yaxis": "y"
                },
                {
                  "hovertemplate": "variable=wide_variable_65<br>x=%{x}<br>value=%{y}<extra></extra>",
                  "legendgroup": "wide_variable_65",
                  "line": {
                    "color": "#19d3f3",
                    "dash": "solid"
                  },
                  "marker": {
                    "symbol": "circle"
                  },
                  "mode": "lines",
                  "name": "wide_variable_65",
                  "orientation": "v",
                  "showlegend": true,
                  "type": "scatter",
                  "x": [
                    0,
                    0.016666666666666666,
                    0.03333333333333333,
                    0.05,
                    0.06666666666666667,
                    0.08333333333333333,
                    0.1,
                    0.11666666666666667,
                    0.13333333333333333,
                    0.15
                  ],
                  "xaxis": "x",
                  "y": [
                    10000,
                    14198.9369274386,
                    16926.172501821522,
                    18512.35717255617,
                    19345.432821733797,
                    19739.208579193768,
                    19906.0572318174,
                    19969.46483622021,
                    19991.508331171655,
                    20000
                  ],
                  "yaxis": "y"
                },
                {
                  "hovertemplate": "variable=wide_variable_66<br>x=%{x}<br>value=%{y}<extra></extra>",
                  "legendgroup": "wide_variable_66",
                  "line": {
                    "color": "#FF6692",
                    "dash": "solid"
                  },
                  "marker": {
                    "symbol": "circle"
                  },
                  "mode": "lines",
                  "name": "wide_variable_66",
                  "orientation": "v",
                  "showlegend": true,
                  "type": "scatter",
                  "x": [
                    0,
                    0.016666666666666666,
                    0.03333333333333333,
                    0.05,
                    0.06666666666666667,
                    0.08333333333333333,
                    0.1,
                    0.11666666666666667,
                    0.13333333333333333,
                    0.15
                  ],
                  "xaxis": "x",
                  "y": [
                    10000,
                    14169.943203719278,
                    16892.06909890371,
                    18485.094030256532,
                    19327.886799401724,
                    19729.67586373669,
                    19901.598406023793,
                    19967.657109072883,
                    19990.91148998908,
                    20000
                  ],
                  "yaxis": "y"
                },
                {
                  "hovertemplate": "variable=wide_variable_67<br>x=%{x}<br>value=%{y}<extra></extra>",
                  "legendgroup": "wide_variable_67",
                  "line": {
                    "color": "#B6E880",
                    "dash": "solid"
                  },
                  "marker": {
                    "symbol": "circle"
                  },
                  "mode": "lines",
                  "name": "wide_variable_67",
                  "orientation": "v",
                  "showlegend": true,
                  "type": "scatter",
                  "x": [
                    0,
                    0.016666666666666666,
                    0.03333333333333333,
                    0.05,
                    0.06666666666666667,
                    0.08333333333333333,
                    0.1,
                    0.11666666666666667,
                    0.13333333333333333,
                    0.15
                  ],
                  "xaxis": "x",
                  "y": [
                    10000,
                    14141.524537427693,
                    16858.424235514864,
                    18458.00048359181,
                    19310.303648277328,
                    19720.03135326507,
                    19897.039087929275,
                    19965.787780974177,
                    19990.288052701406,
                    20000
                  ],
                  "yaxis": "y"
                },
                {
                  "hovertemplate": "variable=wide_variable_68<br>x=%{x}<br>value=%{y}<extra></extra>",
                  "legendgroup": "wide_variable_68",
                  "line": {
                    "color": "#FF97FF",
                    "dash": "solid"
                  },
                  "marker": {
                    "symbol": "circle"
                  },
                  "mode": "lines",
                  "name": "wide_variable_68",
                  "orientation": "v",
                  "showlegend": true,
                  "type": "scatter",
                  "x": [
                    0,
                    0.016666666666666666,
                    0.03333333333333333,
                    0.05,
                    0.06666666666666667,
                    0.08333333333333333,
                    0.1,
                    0.11666666666666667,
                    0.13333333333333333,
                    0.15
                  ],
                  "xaxis": "x",
                  "y": [
                    10000,
                    14113.662848343774,
                    16825.22936979059,
                    18431.078271754755,
                    19292.688622670386,
                    19710.278879315854,
                    19892.380609533855,
                    19963.856749398128,
                    19989.63767726821,
                    20000
                  ],
                  "yaxis": "y"
                },
                {
                  "hovertemplate": "variable=wide_variable_69<br>x=%{x}<br>value=%{y}<extra></extra>",
                  "legendgroup": "wide_variable_69",
                  "line": {
                    "color": "#FECB52",
                    "dash": "solid"
                  },
                  "marker": {
                    "symbol": "circle"
                  },
                  "mode": "lines",
                  "name": "wide_variable_69",
                  "orientation": "v",
                  "showlegend": true,
                  "type": "scatter",
                  "x": [
                    0,
                    0.016666666666666666,
                    0.03333333333333333,
                    0.05,
                    0.06666666666666667,
                    0.08333333333333333,
                    0.1,
                    0.11666666666666667,
                    0.13333333333333333,
                    0.15
                  ],
                  "xaxis": "x",
                  "y": [
                    10000,
                    14086.340808192777,
                    16792.4761010237,
                    18404.328894301518,
                    19275.046755190626,
                    19700.422215548446,
                    19887.624345769913,
                    19961.863963696436,
                    19988.96004735306,
                    20000
                  ],
                  "yaxis": "y"
                },
                {
                  "hovertemplate": "variable=wide_variable_70<br>x=%{x}<br>value=%{y}<extra></extra>",
                  "legendgroup": "wide_variable_70",
                  "line": {
                    "color": "#636efa",
                    "dash": "solid"
                  },
                  "marker": {
                    "symbol": "circle"
                  },
                  "mode": "lines",
                  "name": "wide_variable_70",
                  "orientation": "v",
                  "showlegend": true,
                  "type": "scatter",
                  "x": [
                    0,
                    0.016666666666666666,
                    0.03333333333333333,
                    0.05,
                    0.06666666666666667,
                    0.08333333333333333,
                    0.1,
                    0.11666666666666667,
                    0.13333333333333333,
                    0.15
                  ],
                  "xaxis": "x",
                  "y": [
                    10000,
                    14059.541802851778,
                    16760.156172236722,
                    18377.75362735135,
                    19257.382864149426,
                    19690.465075375538,
                    19882.77171047799,
                    19959.809423515562,
                    19988.254872319674,
                    20000
                  ],
                  "yaxis": "y"
                },
                {
                  "hovertemplate": "variable=wide_variable_71<br>x=%{x}<br>value=%{y}<extra></extra>",
                  "legendgroup": "wide_variable_71",
                  "line": {
                    "color": "#EF553B",
                    "dash": "solid"
                  },
                  "marker": {
                    "symbol": "circle"
                  },
                  "mode": "lines",
                  "name": "wide_variable_71",
                  "orientation": "v",
                  "showlegend": true,
                  "type": "scatter",
                  "x": [
                    0,
                    0.016666666666666666,
                    0.03333333333333333,
                    0.05,
                    0.06666666666666667,
                    0.08333333333333333,
                    0.1,
                    0.11666666666666667,
                    0.13333333333333333,
                    0.15
                  ],
                  "xaxis": "x",
                  "y": [
                    10000,
                    14033.249896732741,
                    16728.261472085713,
                    18351.35353878173,
                    19239.70156085109,
                    19680.41110994493,
                    19877.824152567773,
                    19957.693177179368,
                    19987.521887161005,
                    20000
                  ],
                  "yaxis": "y"
                },
                {
                  "hovertemplate": "variable=wide_variable_72<br>x=%{x}<br>value=%{y}<extra></extra>",
                  "legendgroup": "wide_variable_72",
                  "line": {
                    "color": "#00cc96",
                    "dash": "solid"
                  },
                  "marker": {
                    "symbol": "circle"
                  },
                  "mode": "lines",
                  "name": "wide_variable_72",
                  "orientation": "v",
                  "showlegend": true,
                  "type": "scatter",
                  "x": [
                    0,
                    0.016666666666666666,
                    0.03333333333333333,
                    0.05,
                    0.06666666666666667,
                    0.08333333333333333,
                    0.1,
                    0.11666666666666667,
                    0.13333333333333333,
                    0.15
                  ],
                  "xaxis": "x",
                  "y": [
                    10000,
                    14007.449799203045,
                    16696.784036170906,
                    18325.129502479867,
                    19222.007256758206,
                    19670.263906444077,
                    19872.783152361455,
                    19955.51532004547,
                    19986.76085236541,
                    20000
                  ],
                  "yaxis": "y"
                },
                {
                  "hovertemplate": "variable=wide_variable_73<br>x=%{x}<br>value=%{y}<extra></extra>",
                  "legendgroup": "wide_variable_73",
                  "line": {
                    "color": "#ab63fa",
                    "dash": "solid"
                  },
                  "marker": {
                    "symbol": "circle"
                  },
                  "mode": "lines",
                  "name": "wide_variable_73",
                  "orientation": "v",
                  "showlegend": true,
                  "type": "scatter",
                  "x": [
                    0,
                    0.016666666666666666,
                    0.03333333333333333,
                    0.05,
                    0.06666666666666667,
                    0.08333333333333333,
                    0.1,
                    0.11666666666666667,
                    0.13333333333333333,
                    0.15
                  ],
                  "xaxis": "x",
                  "y": [
                    10000,
                    13982.126832914371,
                    16665.716047822447,
                    18299.082211708163,
                    19204.3041705183,
                    19660.026986700905,
                    19867.650218116065,
                    19953.275992842413,
                    19985.971553724423,
                    20000
                  ],
                  "yaxis": "y"
                },
                {
                  "hovertemplate": "variable=wide_variable_74<br>x=%{x}<br>value=%{y}<extra></extra>",
                  "legendgroup": "wide_variable_74",
                  "line": {
                    "color": "#FFA15A",
                    "dash": "solid"
                  },
                  "marker": {
                    "symbol": "circle"
                  },
                  "mode": "lines",
                  "name": "wide_variable_74",
                  "orientation": "v",
                  "showlegend": true,
                  "type": "scatter",
                  "x": [
                    0,
                    0.016666666666666666,
                    0.03333333333333333,
                    0.05,
                    0.06666666666666667,
                    0.08333333333333333,
                    0.1,
                    0.11666666666666667,
                    0.13333333333333333,
                    0.15
                  ],
                  "xaxis": "x",
                  "y": [
                    10000,
                    13957.266903919472,
                    16635.049838422296,
                    18273.212191637507,
                    19186.596334841306,
                    19649.70380605647,
                    19862.426882721003,
                    19950.975379994714,
                    19985.153802086108,
                    20000
                  ],
                  "yaxis": "y"
                },
                {
                  "hovertemplate": "variable=wide_variable_75<br>x=%{x}<br>value=%{y}<extra></extra>",
                  "legendgroup": "wide_variable_75",
                  "line": {
                    "color": "#19d3f3",
                    "dash": "solid"
                  },
                  "marker": {
                    "symbol": "circle"
                  },
                  "mode": "lines",
                  "name": "wide_variable_75",
                  "orientation": "v",
                  "showlegend": true,
                  "type": "scatter",
                  "x": [
                    0,
                    0.016666666666666666,
                    0.03333333333333333,
                    0.05,
                    0.06666666666666667,
                    0.08333333333333333,
                    0.1,
                    0.11666666666666667,
                    0.13333333333333333,
                    0.15
                  ],
                  "xaxis": "x",
                  "y": [
                    10000,
                    13932.856473464733,
                    16604.777887317276,
                    18247.519811099442,
                    19168.887603219413,
                    19639.297752486036,
                    19857.11470056645,
                    19948.6137079419,
                    19984.307433058293,
                    20000
                  ],
                  "yaxis": "y"
                },
                {
                  "hovertemplate": "variable=wide_variable_76<br>x=%{x}<br>value=%{y}<extra></extra>",
                  "legendgroup": "wide_variable_76",
                  "line": {
                    "color": "#FF6692",
                    "dash": "solid"
                  },
                  "marker": {
                    "symbol": "circle"
                  },
                  "mode": "lines",
                  "name": "wide_variable_76",
                  "orientation": "v",
                  "showlegend": true,
                  "type": "scatter",
                  "x": [
                    0,
                    0.016666666666666666,
                    0.03333333333333333,
                    0.05,
                    0.06666666666666667,
                    0.08333333333333333,
                    0.1,
                    0.11666666666666667,
                    0.13333333333333333,
                    0.15
                  ],
                  "xaxis": "x",
                  "y": [
                    10000,
                    13908.882531354117,
                    16574.892821372578,
                    18222.005293605045,
                    19151.18165648288,
                    19628.81214594732,
                    19851.715244577936,
                    19946.19124345708,
                    19983.432306665665,
                    20000
                  ],
                  "yaxis": "y"
                },
                {
                  "hovertemplate": "variable=wide_variable_77<br>x=%{x}<br>value=%{y}<extra></extra>",
                  "legendgroup": "wide_variable_77",
                  "line": {
                    "color": "#B6E880",
                    "dash": "solid"
                  },
                  "marker": {
                    "symbol": "circle"
                  },
                  "mode": "lines",
                  "name": "wide_variable_77",
                  "orientation": "v",
                  "showlegend": true,
                  "type": "scatter",
                  "x": [
                    0,
                    0.016666666666666666,
                    0.03333333333333333,
                    0.05,
                    0.06666666666666667,
                    0.08333333333333333,
                    0.1,
                    0.11666666666666667,
                    0.13333333333333333,
                    0.15
                  ],
                  "xaxis": "x",
                  "y": [
                    10000,
                    13885.33257078705,
                    16545.38741420994,
                    18196.66872767533,
                    19133.4820091867,
                    19618.2502379355,
                    19846.230103412257,
                    19943.708291970426,
                    19982.528306964687,
                    20000
                  ],
                  "yaxis": "y"
                },
                {
                  "hovertemplate": "variable=wide_variable_78<br>x=%{x}<br>value=%{y}<extra></extra>",
                  "legendgroup": "wide_variable_78",
                  "line": {
                    "color": "#FF97FF",
                    "dash": "solid"
                  },
                  "marker": {
                    "symbol": "circle"
                  },
                  "mode": "lines",
                  "name": "wide_variable_78",
                  "orientation": "v",
                  "showlegend": true,
                  "type": "scatter",
                  "x": [
                    0,
                    0.016666666666666666,
                    0.03333333333333333,
                    0.05,
                    0.06666666666666667,
                    0.08333333333333333,
                    0.1,
                    0.11666666666666667,
                    0.13333333333333333,
                    0.15
                  ],
                  "xaxis": "x",
                  "y": [
                    10000,
                    13862.194564579519,
                    16516.254585170413,
                    18171.510076525752,
                    19115.792015824856,
                    19607.615211226494,
                    19840.660878809485,
                    19941.165195902093,
                    19981.595341620105,
                    20000
                  ],
                  "yaxis": "y"
                },
                {
                  "hovertemplate": "variable=wide_variable_79<br>x=%{x}<br>value=%{y}<extra></extra>",
                  "legendgroup": "wide_variable_79",
                  "line": {
                    "color": "#FECB52",
                    "dash": "solid"
                  },
                  "marker": {
                    "symbol": "circle"
                  },
                  "mode": "lines",
                  "name": "wide_variable_79",
                  "orientation": "v",
                  "showlegend": true,
                  "type": "scatter",
                  "x": [
                    0,
                    0.016666666666666666,
                    0.03333333333333333,
                    0.05,
                    0.06666666666666667,
                    0.08333333333333333,
                    0.1,
                    0.11666666666666667,
                    0.13333333333333333,
                    0.15
                  ],
                  "xaxis": "x",
                  "y": [
                    10000,
                    13839.456942683602,
                    16487.4873980371,
                    18146.529187144213,
                    19098.11487686946,
                    19596.910179790873,
                    19835.009183095943,
                    19938.562333008755,
                    19980.633341446828,
                    20000
                  ],
                  "yaxis": "y"
                },
                {
                  "hovertemplate": "variable=wide_variable_80<br>x=%{x}<br>value=%{y}<extra></extra>",
                  "legendgroup": "wide_variable_80",
                  "line": {
                    "color": "#636efa",
                    "dash": "solid"
                  },
                  "marker": {
                    "symbol": "circle"
                  },
                  "mode": "lines",
                  "name": "wide_variable_80",
                  "orientation": "v",
                  "showlegend": true,
                  "type": "scatter",
                  "x": [
                    0,
                    0.016666666666666666,
                    0.03333333333333333,
                    0.05,
                    0.06666666666666667,
                    0.08333333333333333,
                    0.1,
                    0.11666666666666667,
                    0.13333333333333333,
                    0.15
                  ],
                  "xaxis": "x",
                  "y": [
                    10000,
                    13817.108570926392,
                    16459.079059550284,
                    18121.725798800082,
                    19080.453644633988,
                    19586.138188862456,
                    19829.276636832572,
                    19935.900114747652,
                    19979.642259920613,
                    20000
                  ],
                  "yaxis": "y"
                },
                {
                  "hovertemplate": "variable=wide_variable_81<br>x=%{x}<br>value=%{y}<extra></extra>",
                  "legendgroup": "wide_variable_81",
                  "line": {
                    "color": "#EF553B",
                    "dash": "solid"
                  },
                  "marker": {
                    "symbol": "circle"
                  },
                  "mode": "lines",
                  "name": "wide_variable_81",
                  "orientation": "v",
                  "showlegend": true,
                  "type": "scatter",
                  "x": [
                    0,
                    0.016666666666666666,
                    0.03333333333333333,
                    0.05,
                    0.06666666666666667,
                    0.08333333333333333,
                    0.1,
                    0.11666666666666667,
                    0.13333333333333333,
                    0.15
                  ],
                  "xaxis": "x",
                  "y": [
                    10000,
                    13795.138730894514,
                    16431.02291774316,
                    18097.09955101915,
                    19062.81122895986,
                    19575.30221514636,
                    19823.464866603368,
                    19933.17898466145,
                    19978.622072661088,
                    20000
                  ],
                  "yaxis": "y"
                },
                {
                  "hovertemplate": "variable=wide_variable_82<br>x=%{x}<br>value=%{y}<extra></extra>",
                  "legendgroup": "wide_variable_82",
                  "line": {
                    "color": "#00cc96",
                    "dash": "solid"
                  },
                  "marker": {
                    "symbol": "circle"
                  },
                  "mode": "lines",
                  "name": "wide_variable_82",
                  "orientation": "v",
                  "showlegend": true,
                  "type": "scatter",
                  "x": [
                    0,
                    0.016666666666666666,
                    0.03333333333333333,
                    0.05,
                    0.06666666666666667,
                    0.08333333333333333,
                    0.1,
                    0.11666666666666667,
                    0.13333333333333333,
                    0.15
                  ],
                  "xaxis": "x",
                  "y": [
                    10000,
                    13773.537100895233,
                    16403.312460124387,
                    18072.649991057453,
                    19045.1904027271,
                    19564.405167152752,
                    19817.575502938354,
                    19930.399416786862,
                    19977.572776890258,
                    20000
                  ],
                  "yaxis": "y"
                },
                {
                  "hovertemplate": "variable=wide_variable_83<br>x=%{x}<br>value=%{y}<extra></extra>",
                  "legendgroup": "wide_variable_83",
                  "line": {
                    "color": "#ab63fa",
                    "dash": "solid"
                  },
                  "marker": {
                    "symbol": "circle"
                  },
                  "mode": "lines",
                  "name": "wide_variable_83",
                  "orientation": "v",
                  "showlegend": true,
                  "type": "scatter",
                  "x": [
                    0,
                    0.016666666666666666,
                    0.03333333333333333,
                    0.05,
                    0.06666666666666667,
                    0.08333333333333333,
                    0.1,
                    0.11666666666666667,
                    0.13333333333333333,
                    0.15
                  ],
                  "xaxis": "x",
                  "y": [
                    10000,
                    13752.293737929835,
                    16375.94131173009,
                    18048.376580904765,
                    19027.59380719012,
                    19553.44988564326,
                    19811.610178365674,
                    19927.561914089743,
                    19976.494390869677,
                    20000
                  ],
                  "yaxis": "y"
                },
                {
                  "hovertemplate": "variable=wide_variable_84<br>x=%{x}<br>value=%{y}<extra></extra>",
                  "legendgroup": "wide_variable_84",
                  "line": {
                    "color": "#FFA15A",
                    "dash": "solid"
                  },
                  "marker": {
                    "symbol": "circle"
                  },
                  "mode": "lines",
                  "name": "wide_variable_84",
                  "orientation": "v",
                  "showlegend": true,
                  "type": "scatter",
                  "x": [
                    0,
                    0.016666666666666666,
                    0.03333333333333333,
                    0.05,
                    0.06666666666666667,
                    0.08333333333333333,
                    0.1,
                    0.11666666666666667,
                    0.13333333333333333,
                    0.15
                  ],
                  "xaxis": "x",
                  "y": [
                    10000,
                    13731.399060618924,
                    16348.903233066258,
                    18024.27870384682,
                    19010.023957140333,
                    19542.43914417823,
                    19805.57052558737,
                    19924.66700692899,
                    19975.38695331912,
                    20000
                  ],
                  "yaxis": "y"
                },
                {
                  "hovertemplate": "variable=wide_variable_85<br>x=%{x}<br>value=%{y}<extra></extra>",
                  "legendgroup": "wide_variable_85",
                  "line": {
                    "color": "#19d3f3",
                    "dash": "solid"
                  },
                  "marker": {
                    "symbol": "circle"
                  },
                  "mode": "lines",
                  "name": "wide_variable_85",
                  "orientation": "v",
                  "showlegend": true,
                  "type": "scatter",
                  "x": [
                    0,
                    0.016666666666666666,
                    0.03333333333333333,
                    0.05,
                    0.06666666666666667,
                    0.08333333333333333,
                    0.1,
                    0.11666666666666667,
                    0.13333333333333333,
                    0.15
                  ],
                  "xaxis": "x",
                  "y": [
                    10000,
                    13710.843833023479,
                    16322.1921179597,
                    18000.35567061331,
                    18992.483245897914,
                    19531.375649753925,
                    19799.458175773372,
                    19921.7152515511,
                    19974.250522819813,
                    20000
                  ],
                  "yaxis": "y"
                },
                {
                  "hovertemplate": "variable=wide_variable_86<br>x=%{x}<br>value=%{y}<extra></extra>",
                  "legendgroup": "wide_variable_86",
                  "line": {
                    "color": "#FF6692",
                    "dash": "solid"
                  },
                  "marker": {
                    "symbol": "circle"
                  },
                  "mode": "lines",
                  "name": "wide_variable_86",
                  "orientation": "v",
                  "showlegend": true,
                  "type": "scatter",
                  "x": [
                    0,
                    0.016666666666666666,
                    0.03333333333333333,
                    0.05,
                    0.06666666666666667,
                    0.08333333333333333,
                    0.1,
                    0.11666666666666667,
                    0.13333333333333333,
                    0.15
                  ],
                  "xaxis": "x",
                  "y": [
                    10000,
                    13690.619149308888,
                    16295.801991334294,
                    17976.60672513731,
                    18974.973950135198,
                    19520.262043519197,
                    19793.27475696874,
                    19918.707228617284,
                    19973.085177204473,
                    20000
                  ],
                  "yaxis": "y"
                },
                {
                  "hovertemplate": "variable=wide_variable_87<br>x=%{x}<br>value=%{y}<extra></extra>",
                  "legendgroup": "wide_variable_87",
                  "line": {
                    "color": "#B6E880",
                    "dash": "solid"
                  },
                  "marker": {
                    "symbol": "circle"
                  },
                  "mode": "lines",
                  "name": "wide_variable_87",
                  "orientation": "v",
                  "showlegend": true,
                  "type": "scatter",
                  "x": [
                    0,
                    0.016666666666666666,
                    0.03333333333333333,
                    0.05,
                    0.06666666666666667,
                    0.08333333333333333,
                    0.1,
                    0.11666666666666667,
                    0.13333333333333333,
                    0.15
                  ],
                  "xaxis": "x",
                  "y": [
                    10000,
                    13670.716419202781,
                    16269.727006927113,
                    17953.031049949986,
                    18957.49823453478,
                    19509.1009015626,
                    19787.021892608558,
                    19915.643541764475,
                    19971.89101293702,
                    20000
                  ],
                  "yaxis": "y"
                },
                {
                  "hovertemplate": "variable=wide_variable_88<br>x=%{x}<br>value=%{y}<extra></extra>",
                  "legendgroup": "wide_variable_88",
                  "line": {
                    "color": "#FF97FF",
                    "dash": "solid"
                  },
                  "marker": {
                    "symbol": "circle"
                  },
                  "mode": "lines",
                  "name": "wide_variable_88",
                  "orientation": "v",
                  "showlegend": true,
                  "type": "scatter",
                  "x": [
                    0,
                    0.016666666666666666,
                    0.03333333333333333,
                    0.05,
                    0.06666666666666667,
                    0.08333333333333333,
                    0.1,
                    0.11666666666666667,
                    0.13333333333333333,
                    0.15
                  ],
                  "xaxis": "x",
                  "y": [
                    10000,
                    13651.127354200418,
                    16243.961444957506,
                    17929.627771233034,
                    18940.058156285635,
                    19497.894735761154,
                    19780.70120013575,
                    19912.52481620149,
                    19970.668144484058,
                    20000
                  ],
                  "yaxis": "y"
                },
                {
                  "hovertemplate": "variable=wide_variable_89<br>x=%{x}<br>value=%{y}<extra></extra>",
                  "legendgroup": "wide_variable_89",
                  "line": {
                    "color": "#FECB52",
                    "dash": "solid"
                  },
                  "marker": {
                    "symbol": "circle"
                  },
                  "mode": "lines",
                  "name": "wide_variable_89",
                  "orientation": "v",
                  "showlegend": true,
                  "type": "scatter",
                  "x": [
                    0,
                    0.016666666666666666,
                    0.03333333333333333,
                    0.05,
                    0.06666666666666667,
                    0.08333333333333333,
                    0.1,
                    0.11666666666666667,
                    0.13333333333333333,
                    0.15
                  ],
                  "xaxis": "x",
                  "y": [
                    10000,
                    13631.843954474562,
                    16218.499709760994,
                    17906.395963549916,
                    18922.655669420546,
                    19486.645994682927,
                    19774.31428971677,
                    19909.35169734137,
                    19969.416703680414,
                    20000
                  ],
                  "yaxis": "y"
                },
                {
                  "hovertemplate": "variable=wide_variable_90<br>x=%{x}<br>value=%{y}<extra></extra>",
                  "legendgroup": "wide_variable_90",
                  "line": {
                    "color": "#636efa",
                    "dash": "solid"
                  },
                  "marker": {
                    "symbol": "circle"
                  },
                  "mode": "lines",
                  "name": "wide_variable_90",
                  "orientation": "v",
                  "showlegend": true,
                  "type": "scatter",
                  "x": [
                    0,
                    0.016666666666666666,
                    0.03333333333333333,
                    0.05,
                    0.06666666666666667,
                    0.08333333333333333,
                    0.1,
                    0.11666666666666667,
                    0.13333333333333333,
                    0.15
                  ],
                  "xaxis": "x",
                  "y": [
                    10000,
                    13612.858496449284,
                    16193.336327398138,
                    17883.334654275706,
                    18905.292628998835,
                    19475.35706453604,
                    19767.862763050398,
                    19906.124849470576,
                    19968.136839090774,
                    20000
                  ],
                  "yaxis": "y"
                },
                {
                  "hovertemplate": "variable=wide_variable_91<br>x=%{x}<br>value=%{y}<extra></extra>",
                  "legendgroup": "wide_variable_91",
                  "line": {
                    "color": "#EF553B",
                    "dash": "solid"
                  },
                  "marker": {
                    "symbol": "circle"
                  },
                  "mode": "lines",
                  "name": "wide_variable_91",
                  "orientation": "v",
                  "showlegend": true,
                  "type": "scatter",
                  "x": [
                    0,
                    0.016666666666666666,
                    0.03333333333333333,
                    0.05,
                    0.06666666666666667,
                    0.08333333333333333,
                    0.1,
                    0.11666666666666667,
                    0.13333333333333333,
                    0.15
                  ],
                  "xaxis": "x",
                  "y": [
                    10000,
                    13594.16352099984,
                    16168.465943247775,
                    17860.442827744,
                    18887.970795137877,
                    19464.030270157604,
                    19761.34821226494,
                    19902.844954455788,
                    19966.828715369327,
                    20000
                  ],
                  "yaxis": "y"
                },
                {
                  "hovertemplate": "variable=wide_variable_92<br>x=%{x}<br>value=%{y}<extra></extra>",
                  "legendgroup": "wide_variable_92",
                  "line": {
                    "color": "#00cc96",
                    "dash": "solid"
                  },
                  "marker": {
                    "symbol": "circle"
                  },
                  "mode": "lines",
                  "name": "wide_variable_92",
                  "orientation": "v",
                  "showlegend": true,
                  "type": "scatter",
                  "x": [
                    0,
                    0.016666666666666666,
                    0.03333333333333333,
                    0.05,
                    0.06666666666666667,
                    0.08333333333333333,
                    0.1,
                    0.11666666666666667,
                    0.13333333333333333,
                    0.15
                  ],
                  "xaxis": "x",
                  "y": [
                    10000,
                    13575.751822243026,
                    16143.88331959267,
                    17837.719429128425,
                    18870.691836897575,
                    19452.667876036216,
                    19754.77221889939,
                    19899.512710488685,
                    19965.492512619105,
                    20000
                  ],
                  "yaxis": "y"
                },
                {
                  "hovertemplate": "variable=wide_variable_93<br>x=%{x}<br>value=%{y}<extra></extra>",
                  "legendgroup": "wide_variable_93",
                  "line": {
                    "color": "#ab63fa",
                    "dash": "solid"
                  },
                  "marker": {
                    "symbol": "circle"
                  },
                  "mode": "lines",
                  "name": "wide_variable_93",
                  "orientation": "v",
                  "showlegend": true,
                  "type": "scatter",
                  "x": [
                    0,
                    0.016666666666666666,
                    0.03333333333333333,
                    0.05,
                    0.06666666666666667,
                    0.08333333333333333,
                    0.1,
                    0.11666666666666667,
                    0.13333333333333333,
                    0.15
                  ],
                  "xaxis": "x",
                  "y": [
                    10000,
                    13557.616436884775,
                    16119.58333320484,
                    17815.163368074933,
                    18853.4573360217,
                    19441.272087362795,
                    19748.136352964222,
                    19896.128830868896,
                    19964.128425752762,
                    20000
                  ],
                  "yaxis": "y"
                },
                {
                  "hovertemplate": "variable=wide_variable_94<br>x=%{x}<br>value=%{y}<extra></extra>",
                  "legendgroup": "wide_variable_94",
                  "line": {
                    "color": "#FFA15A",
                    "dash": "solid"
                  },
                  "marker": {
                    "symbol": "circle"
                  },
                  "mode": "lines",
                  "name": "wide_variable_94",
                  "orientation": "v",
                  "showlegend": true,
                  "type": "scatter",
                  "x": [
                    0,
                    0.016666666666666666,
                    0.03333333333333333,
                    0.05,
                    0.06666666666666667,
                    0.08333333333333333,
                    0.1,
                    0.11666666666666667,
                    0.13333333333333333,
                    0.15
                  ],
                  "xaxis": "x",
                  "y": [
                    10000,
                    13539.750634093638,
                    16095.560972936926,
                    17792.77352210014,
                    18836.26879054014,
                    19429.845051104276,
                    19741.442172077535,
                    19892.694042825413,
                    19962.736663856267,
                    20000
                  ],
                  "yaxis": "y"
                },
                {
                  "hovertemplate": "variable=wide_variable_95<br>x=%{x}<br>value=%{y}<extra></extra>",
                  "legendgroup": "wide_variable_95",
                  "line": {
                    "color": "#19d3f3",
                    "dash": "solid"
                  },
                  "marker": {
                    "symbol": "circle"
                  },
                  "mode": "lines",
                  "name": "wide_variable_95",
                  "orientation": "v",
                  "showlegend": true,
                  "type": "scatter",
                  "x": [
                    0,
                    0.016666666666666666,
                    0.03333333333333333,
                    0.05,
                    0.06666666666666667,
                    0.08333333333333333,
                    0.1,
                    0.11666666666666667,
                    0.13333333333333333,
                    0.15
                  ],
                  "xaxis": "x",
                  "y": [
                    10000,
                    13522.147905870896,
                    16071.811337325118,
                    17770.548739770315,
                    18819.12761823618,
                    19418.388857095706,
                    19734.69122067261,
                    19889.209086376395,
                    19961.317449556842,
                    20000
                  ],
                  "yaxis": "y"
                },
                {
                  "hovertemplate": "variable=wide_variable_96<br>x=%{x}<br>value=%{y}<extra></extra>",
                  "legendgroup": "wide_variable_96",
                  "line": {
                    "color": "#FF6692",
                    "dash": "solid"
                  },
                  "marker": {
                    "symbol": "circle"
                  },
                  "mode": "lines",
                  "name": "wide_variable_96",
                  "orientation": "v",
                  "showlegend": true,
                  "type": "scatter",
                  "x": [
                    0,
                    0.016666666666666666,
                    0.03333333333333333,
                    0.05,
                    0.06666666666666667,
                    0.08333333333333333,
                    0.1,
                    0.11666666666666667,
                    0.13333333333333333,
                    0.15
                  ],
                  "xaxis": "x",
                  "y": [
                    10000,
                    13504.801957889707,
                    16048.32963220863,
                    17748.487843674306,
                    18802.03515998284,
                    19406.905539146544,
                    19727.88502927291,
                    19885.674713227258,
                    19959.871018396505,
                    20000
                  ],
                  "yaxis": "y"
                },
                {
                  "hovertemplate": "variable=wide_variable_97<br>x=%{x}<br>value=%{y}<extra></extra>",
                  "legendgroup": "wide_variable_97",
                  "line": {
                    "color": "#B6E880",
                    "dash": "solid"
                  },
                  "marker": {
                    "symbol": "circle"
                  },
                  "mode": "lines",
                  "name": "wide_variable_97",
                  "orientation": "v",
                  "showlegend": true,
                  "type": "scatter",
                  "x": [
                    0,
                    0.016666666666666666,
                    0.03333333333333333,
                    0.05,
                    0.06666666666666667,
                    0.08333333333333333,
                    0.1,
                    0.11666666666666667,
                    0.13333333333333333,
                    0.15
                  ],
                  "xaxis": "x",
                  "y": [
                    10000,
                    13487.706700777506,
                    16025.111168369896,
                    17726.589633202973,
                    18784.99268295237,
                    19395.397076157078,
                    19721.02511383097,
                    19882.09168570676,
                    19958.397618212224,
                    20000
                  ],
                  "yaxis": "y"
                },
                {
                  "hovertemplate": "variable=wide_variable_98<br>x=%{x}<br>value=%{y}<extra></extra>",
                  "legendgroup": "wide_variable_98",
                  "line": {
                    "color": "#FF97FF",
                    "dash": "solid"
                  },
                  "marker": {
                    "symbol": "circle"
                  },
                  "mode": "lines",
                  "name": "wide_variable_98",
                  "orientation": "v",
                  "showlegend": true,
                  "type": "scatter",
                  "x": [
                    0,
                    0.016666666666666666,
                    0.03333333333333333,
                    0.05,
                    0.06666666666666667,
                    0.08333333333333333,
                    0.1,
                    0.11666666666666667,
                    0.13333333333333333,
                    0.15
                  ],
                  "xaxis": "x",
                  "y": [
                    10000,
                    13470.85624181732,
                    16002.151359199257,
                    17704.852887147343,
                    18768.00138370293,
                    19383.86539324175,
                    19714.112975127337,
                    19878.46077574108,
                    19956.897508523973,
                    20000
                  ],
                  "yaxis": "y"
                },
                {
                  "hovertemplate": "variable=wide_variable_99<br>x=%{x}<br>value=%{y}<extra></extra>",
                  "legendgroup": "wide_variable_99",
                  "line": {
                    "color": "#FECB52",
                    "dash": "solid"
                  },
                  "marker": {
                    "symbol": "circle"
                  },
                  "mode": "lines",
                  "name": "wide_variable_99",
                  "orientation": "v",
                  "showlegend": true,
                  "type": "scatter",
                  "x": [
                    0,
                    0.016666666666666666,
                    0.03333333333333333,
                    0.05,
                    0.06666666666666667,
                    0.08333333333333333,
                    0.1,
                    0.11666666666666667,
                    0.13333333333333333,
                    0.15
                  ],
                  "xaxis": "x",
                  "y": [
                    10000,
                    13454.244877045197,
                    15979.445718387262,
                    17683.276366126116,
                    18751.062391146454,
                    19372.312362855995,
                    19707.150098226415,
                    19874.782763865143,
                    19955.370959931355,
                    20000
                  ],
                  "yaxis": "y"
                }
              ],
              "layout": {
                "legend": {
                  "title": {
                    "text": "variable"
                  },
                  "tracegroupgap": 0
                },
                "margin": {
                  "t": 60
                },
                "template": {
                  "data": {
                    "bar": [
                      {
                        "error_x": {
                          "color": "#2a3f5f"
                        },
                        "error_y": {
                          "color": "#2a3f5f"
                        },
                        "marker": {
                          "line": {
                            "color": "#E5ECF6",
                            "width": 0.5
                          },
                          "pattern": {
                            "fillmode": "overlay",
                            "size": 10,
                            "solidity": 0.2
                          }
                        },
                        "type": "bar"
                      }
                    ],
                    "barpolar": [
                      {
                        "marker": {
                          "line": {
                            "color": "#E5ECF6",
                            "width": 0.5
                          },
                          "pattern": {
                            "fillmode": "overlay",
                            "size": 10,
                            "solidity": 0.2
                          }
                        },
                        "type": "barpolar"
                      }
                    ],
                    "carpet": [
                      {
                        "aaxis": {
                          "endlinecolor": "#2a3f5f",
                          "gridcolor": "white",
                          "linecolor": "white",
                          "minorgridcolor": "white",
                          "startlinecolor": "#2a3f5f"
                        },
                        "baxis": {
                          "endlinecolor": "#2a3f5f",
                          "gridcolor": "white",
                          "linecolor": "white",
                          "minorgridcolor": "white",
                          "startlinecolor": "#2a3f5f"
                        },
                        "type": "carpet"
                      }
                    ],
                    "choropleth": [
                      {
                        "colorbar": {
                          "outlinewidth": 0,
                          "ticks": ""
                        },
                        "type": "choropleth"
                      }
                    ],
                    "contour": [
                      {
                        "colorbar": {
                          "outlinewidth": 0,
                          "ticks": ""
                        },
                        "colorscale": [
                          [
                            0,
                            "#0d0887"
                          ],
                          [
                            0.1111111111111111,
                            "#46039f"
                          ],
                          [
                            0.2222222222222222,
                            "#7201a8"
                          ],
                          [
                            0.3333333333333333,
                            "#9c179e"
                          ],
                          [
                            0.4444444444444444,
                            "#bd3786"
                          ],
                          [
                            0.5555555555555556,
                            "#d8576b"
                          ],
                          [
                            0.6666666666666666,
                            "#ed7953"
                          ],
                          [
                            0.7777777777777778,
                            "#fb9f3a"
                          ],
                          [
                            0.8888888888888888,
                            "#fdca26"
                          ],
                          [
                            1,
                            "#f0f921"
                          ]
                        ],
                        "type": "contour"
                      }
                    ],
                    "contourcarpet": [
                      {
                        "colorbar": {
                          "outlinewidth": 0,
                          "ticks": ""
                        },
                        "type": "contourcarpet"
                      }
                    ],
                    "heatmap": [
                      {
                        "colorbar": {
                          "outlinewidth": 0,
                          "ticks": ""
                        },
                        "colorscale": [
                          [
                            0,
                            "#0d0887"
                          ],
                          [
                            0.1111111111111111,
                            "#46039f"
                          ],
                          [
                            0.2222222222222222,
                            "#7201a8"
                          ],
                          [
                            0.3333333333333333,
                            "#9c179e"
                          ],
                          [
                            0.4444444444444444,
                            "#bd3786"
                          ],
                          [
                            0.5555555555555556,
                            "#d8576b"
                          ],
                          [
                            0.6666666666666666,
                            "#ed7953"
                          ],
                          [
                            0.7777777777777778,
                            "#fb9f3a"
                          ],
                          [
                            0.8888888888888888,
                            "#fdca26"
                          ],
                          [
                            1,
                            "#f0f921"
                          ]
                        ],
                        "type": "heatmap"
                      }
                    ],
                    "heatmapgl": [
                      {
                        "colorbar": {
                          "outlinewidth": 0,
                          "ticks": ""
                        },
                        "colorscale": [
                          [
                            0,
                            "#0d0887"
                          ],
                          [
                            0.1111111111111111,
                            "#46039f"
                          ],
                          [
                            0.2222222222222222,
                            "#7201a8"
                          ],
                          [
                            0.3333333333333333,
                            "#9c179e"
                          ],
                          [
                            0.4444444444444444,
                            "#bd3786"
                          ],
                          [
                            0.5555555555555556,
                            "#d8576b"
                          ],
                          [
                            0.6666666666666666,
                            "#ed7953"
                          ],
                          [
                            0.7777777777777778,
                            "#fb9f3a"
                          ],
                          [
                            0.8888888888888888,
                            "#fdca26"
                          ],
                          [
                            1,
                            "#f0f921"
                          ]
                        ],
                        "type": "heatmapgl"
                      }
                    ],
                    "histogram": [
                      {
                        "marker": {
                          "pattern": {
                            "fillmode": "overlay",
                            "size": 10,
                            "solidity": 0.2
                          }
                        },
                        "type": "histogram"
                      }
                    ],
                    "histogram2d": [
                      {
                        "colorbar": {
                          "outlinewidth": 0,
                          "ticks": ""
                        },
                        "colorscale": [
                          [
                            0,
                            "#0d0887"
                          ],
                          [
                            0.1111111111111111,
                            "#46039f"
                          ],
                          [
                            0.2222222222222222,
                            "#7201a8"
                          ],
                          [
                            0.3333333333333333,
                            "#9c179e"
                          ],
                          [
                            0.4444444444444444,
                            "#bd3786"
                          ],
                          [
                            0.5555555555555556,
                            "#d8576b"
                          ],
                          [
                            0.6666666666666666,
                            "#ed7953"
                          ],
                          [
                            0.7777777777777778,
                            "#fb9f3a"
                          ],
                          [
                            0.8888888888888888,
                            "#fdca26"
                          ],
                          [
                            1,
                            "#f0f921"
                          ]
                        ],
                        "type": "histogram2d"
                      }
                    ],
                    "histogram2dcontour": [
                      {
                        "colorbar": {
                          "outlinewidth": 0,
                          "ticks": ""
                        },
                        "colorscale": [
                          [
                            0,
                            "#0d0887"
                          ],
                          [
                            0.1111111111111111,
                            "#46039f"
                          ],
                          [
                            0.2222222222222222,
                            "#7201a8"
                          ],
                          [
                            0.3333333333333333,
                            "#9c179e"
                          ],
                          [
                            0.4444444444444444,
                            "#bd3786"
                          ],
                          [
                            0.5555555555555556,
                            "#d8576b"
                          ],
                          [
                            0.6666666666666666,
                            "#ed7953"
                          ],
                          [
                            0.7777777777777778,
                            "#fb9f3a"
                          ],
                          [
                            0.8888888888888888,
                            "#fdca26"
                          ],
                          [
                            1,
                            "#f0f921"
                          ]
                        ],
                        "type": "histogram2dcontour"
                      }
                    ],
                    "mesh3d": [
                      {
                        "colorbar": {
                          "outlinewidth": 0,
                          "ticks": ""
                        },
                        "type": "mesh3d"
                      }
                    ],
                    "parcoords": [
                      {
                        "line": {
                          "colorbar": {
                            "outlinewidth": 0,
                            "ticks": ""
                          }
                        },
                        "type": "parcoords"
                      }
                    ],
                    "pie": [
                      {
                        "automargin": true,
                        "type": "pie"
                      }
                    ],
                    "scatter": [
                      {
                        "fillpattern": {
                          "fillmode": "overlay",
                          "size": 10,
                          "solidity": 0.2
                        },
                        "type": "scatter"
                      }
                    ],
                    "scatter3d": [
                      {
                        "line": {
                          "colorbar": {
                            "outlinewidth": 0,
                            "ticks": ""
                          }
                        },
                        "marker": {
                          "colorbar": {
                            "outlinewidth": 0,
                            "ticks": ""
                          }
                        },
                        "type": "scatter3d"
                      }
                    ],
                    "scattercarpet": [
                      {
                        "marker": {
                          "colorbar": {
                            "outlinewidth": 0,
                            "ticks": ""
                          }
                        },
                        "type": "scattercarpet"
                      }
                    ],
                    "scattergeo": [
                      {
                        "marker": {
                          "colorbar": {
                            "outlinewidth": 0,
                            "ticks": ""
                          }
                        },
                        "type": "scattergeo"
                      }
                    ],
                    "scattergl": [
                      {
                        "marker": {
                          "colorbar": {
                            "outlinewidth": 0,
                            "ticks": ""
                          }
                        },
                        "type": "scattergl"
                      }
                    ],
                    "scattermapbox": [
                      {
                        "marker": {
                          "colorbar": {
                            "outlinewidth": 0,
                            "ticks": ""
                          }
                        },
                        "type": "scattermapbox"
                      }
                    ],
                    "scatterpolar": [
                      {
                        "marker": {
                          "colorbar": {
                            "outlinewidth": 0,
                            "ticks": ""
                          }
                        },
                        "type": "scatterpolar"
                      }
                    ],
                    "scatterpolargl": [
                      {
                        "marker": {
                          "colorbar": {
                            "outlinewidth": 0,
                            "ticks": ""
                          }
                        },
                        "type": "scatterpolargl"
                      }
                    ],
                    "scatterternary": [
                      {
                        "marker": {
                          "colorbar": {
                            "outlinewidth": 0,
                            "ticks": ""
                          }
                        },
                        "type": "scatterternary"
                      }
                    ],
                    "surface": [
                      {
                        "colorbar": {
                          "outlinewidth": 0,
                          "ticks": ""
                        },
                        "colorscale": [
                          [
                            0,
                            "#0d0887"
                          ],
                          [
                            0.1111111111111111,
                            "#46039f"
                          ],
                          [
                            0.2222222222222222,
                            "#7201a8"
                          ],
                          [
                            0.3333333333333333,
                            "#9c179e"
                          ],
                          [
                            0.4444444444444444,
                            "#bd3786"
                          ],
                          [
                            0.5555555555555556,
                            "#d8576b"
                          ],
                          [
                            0.6666666666666666,
                            "#ed7953"
                          ],
                          [
                            0.7777777777777778,
                            "#fb9f3a"
                          ],
                          [
                            0.8888888888888888,
                            "#fdca26"
                          ],
                          [
                            1,
                            "#f0f921"
                          ]
                        ],
                        "type": "surface"
                      }
                    ],
                    "table": [
                      {
                        "cells": {
                          "fill": {
                            "color": "#EBF0F8"
                          },
                          "line": {
                            "color": "white"
                          }
                        },
                        "header": {
                          "fill": {
                            "color": "#C8D4E3"
                          },
                          "line": {
                            "color": "white"
                          }
                        },
                        "type": "table"
                      }
                    ]
                  },
                  "layout": {
                    "annotationdefaults": {
                      "arrowcolor": "#2a3f5f",
                      "arrowhead": 0,
                      "arrowwidth": 1
                    },
                    "autotypenumbers": "strict",
                    "coloraxis": {
                      "colorbar": {
                        "outlinewidth": 0,
                        "ticks": ""
                      }
                    },
                    "colorscale": {
                      "diverging": [
                        [
                          0,
                          "#8e0152"
                        ],
                        [
                          0.1,
                          "#c51b7d"
                        ],
                        [
                          0.2,
                          "#de77ae"
                        ],
                        [
                          0.3,
                          "#f1b6da"
                        ],
                        [
                          0.4,
                          "#fde0ef"
                        ],
                        [
                          0.5,
                          "#f7f7f7"
                        ],
                        [
                          0.6,
                          "#e6f5d0"
                        ],
                        [
                          0.7,
                          "#b8e186"
                        ],
                        [
                          0.8,
                          "#7fbc41"
                        ],
                        [
                          0.9,
                          "#4d9221"
                        ],
                        [
                          1,
                          "#276419"
                        ]
                      ],
                      "sequential": [
                        [
                          0,
                          "#0d0887"
                        ],
                        [
                          0.1111111111111111,
                          "#46039f"
                        ],
                        [
                          0.2222222222222222,
                          "#7201a8"
                        ],
                        [
                          0.3333333333333333,
                          "#9c179e"
                        ],
                        [
                          0.4444444444444444,
                          "#bd3786"
                        ],
                        [
                          0.5555555555555556,
                          "#d8576b"
                        ],
                        [
                          0.6666666666666666,
                          "#ed7953"
                        ],
                        [
                          0.7777777777777778,
                          "#fb9f3a"
                        ],
                        [
                          0.8888888888888888,
                          "#fdca26"
                        ],
                        [
                          1,
                          "#f0f921"
                        ]
                      ],
                      "sequentialminus": [
                        [
                          0,
                          "#0d0887"
                        ],
                        [
                          0.1111111111111111,
                          "#46039f"
                        ],
                        [
                          0.2222222222222222,
                          "#7201a8"
                        ],
                        [
                          0.3333333333333333,
                          "#9c179e"
                        ],
                        [
                          0.4444444444444444,
                          "#bd3786"
                        ],
                        [
                          0.5555555555555556,
                          "#d8576b"
                        ],
                        [
                          0.6666666666666666,
                          "#ed7953"
                        ],
                        [
                          0.7777777777777778,
                          "#fb9f3a"
                        ],
                        [
                          0.8888888888888888,
                          "#fdca26"
                        ],
                        [
                          1,
                          "#f0f921"
                        ]
                      ]
                    },
                    "colorway": [
                      "#636efa",
                      "#EF553B",
                      "#00cc96",
                      "#ab63fa",
                      "#FFA15A",
                      "#19d3f3",
                      "#FF6692",
                      "#B6E880",
                      "#FF97FF",
                      "#FECB52"
                    ],
                    "font": {
                      "color": "#2a3f5f"
                    },
                    "geo": {
                      "bgcolor": "white",
                      "lakecolor": "white",
                      "landcolor": "#E5ECF6",
                      "showlakes": true,
                      "showland": true,
                      "subunitcolor": "white"
                    },
                    "hoverlabel": {
                      "align": "left"
                    },
                    "hovermode": "closest",
                    "mapbox": {
                      "style": "light"
                    },
                    "paper_bgcolor": "white",
                    "plot_bgcolor": "#E5ECF6",
                    "polar": {
                      "angularaxis": {
                        "gridcolor": "white",
                        "linecolor": "white",
                        "ticks": ""
                      },
                      "bgcolor": "#E5ECF6",
                      "radialaxis": {
                        "gridcolor": "white",
                        "linecolor": "white",
                        "ticks": ""
                      }
                    },
                    "scene": {
                      "xaxis": {
                        "backgroundcolor": "#E5ECF6",
                        "gridcolor": "white",
                        "gridwidth": 2,
                        "linecolor": "white",
                        "showbackground": true,
                        "ticks": "",
                        "zerolinecolor": "white"
                      },
                      "yaxis": {
                        "backgroundcolor": "#E5ECF6",
                        "gridcolor": "white",
                        "gridwidth": 2,
                        "linecolor": "white",
                        "showbackground": true,
                        "ticks": "",
                        "zerolinecolor": "white"
                      },
                      "zaxis": {
                        "backgroundcolor": "#E5ECF6",
                        "gridcolor": "white",
                        "gridwidth": 2,
                        "linecolor": "white",
                        "showbackground": true,
                        "ticks": "",
                        "zerolinecolor": "white"
                      }
                    },
                    "shapedefaults": {
                      "line": {
                        "color": "#2a3f5f"
                      }
                    },
                    "ternary": {
                      "aaxis": {
                        "gridcolor": "white",
                        "linecolor": "white",
                        "ticks": ""
                      },
                      "baxis": {
                        "gridcolor": "white",
                        "linecolor": "white",
                        "ticks": ""
                      },
                      "bgcolor": "#E5ECF6",
                      "caxis": {
                        "gridcolor": "white",
                        "linecolor": "white",
                        "ticks": ""
                      }
                    },
                    "title": {
                      "x": 0.05
                    },
                    "xaxis": {
                      "automargin": true,
                      "gridcolor": "white",
                      "linecolor": "white",
                      "ticks": "",
                      "title": {
                        "standoff": 15
                      },
                      "zerolinecolor": "white",
                      "zerolinewidth": 2
                    },
                    "yaxis": {
                      "automargin": true,
                      "gridcolor": "white",
                      "linecolor": "white",
                      "ticks": "",
                      "title": {
                        "standoff": 15
                      },
                      "zerolinecolor": "white",
                      "zerolinewidth": 2
                    }
                  }
                },
                "xaxis": {
                  "anchor": "y",
                  "domain": [
                    0,
                    1
                  ],
                  "title": {
                    "text": "x"
                  }
                },
                "yaxis": {
                  "anchor": "x",
                  "domain": [
                    0,
                    1
                  ],
                  "title": {
                    "text": "value"
                  }
                }
              }
            }
          },
          "metadata": {},
          "output_type": "display_data"
        }
      ],
      "source": [
        "import plotly.express as px\n",
        "\n",
        "P_list = []\n",
        "for i in range(0, len(P), 10):\n",
        "    P_list.append(P[i])\n",
        "\n",
        "fig = px.line(x=np.arange(0, L+h/2, h), y=P_list)\n",
        "fig.show()"
      ]
    }
  ],
  "metadata": {
    "colab": {
      "provenance": []
    },
    "kernelspec": {
      "display_name": "Python 3",
      "name": "python3"
    },
    "language_info": {
      "codemirror_mode": {
        "name": "ipython",
        "version": 3
      },
      "file_extension": ".py",
      "mimetype": "text/x-python",
      "name": "python",
      "nbconvert_exporter": "python",
      "pygments_lexer": "ipython3",
      "version": "3.12.2"
    }
  },
  "nbformat": 4,
  "nbformat_minor": 0
}
