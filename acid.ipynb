{
 "cells": [
  {
   "cell_type": "markdown",
   "metadata": {},
   "source": [
    "# Нагнетание кислотного раствора в нефтенасыщенный карбонатный коллектор"
   ]
  },
  {
   "cell_type": "markdown",
   "metadata": {},
   "source": [
    "## Теория"
   ]
  },
  {
   "cell_type": "markdown",
   "metadata": {},
   "source": [
    "### Континиумы"
   ]
  },
  {
   "cell_type": "markdown",
   "metadata": {},
   "source": [
    "![Continuum picture](/source/pict.png)"
   ]
  },
  {
   "cell_type": "markdown",
   "metadata": {},
   "source": [
    "Химические реакции протекающих процессов:\n",
    "\n",
    "$$\n",
    "2 HCl + CaCO_3 \\rightarrow CaCl_2 + H_2CO_3\n",
    "\\\\\n",
    "H_2CO_3 \\rightarrow H_2O + CO_2\n",
    "$$\n",
    "\n",
    "$$\n",
    "4HCl + CaMg\\left(CO_3\\right)_2 \\rightarrow CaCl_2 +MgCl_2 + 2H_2CO_3\n",
    "\\\\\n",
    "2H_2CO_3 \\rightarrow 2H_2O + 2CO_2\n",
    "$$"
   ]
  },
  {
   "cell_type": "markdown",
   "metadata": {},
   "source": [
    "Далее приняты следующие обозначения:\n",
    "\n",
    "- $ CaCO_3 $ - **L**imestone\n",
    "- $ CaMg\\left(CO_3\\right)_2 $ - **D**olomite\n",
    "- $ HCl $ - **HCl**\n",
    "- $ H_2O $ - **W**ater\n",
    "- $CO_2$ - **G**as"
   ]
  },
  {
   "cell_type": "markdown",
   "metadata": {},
   "source": [
    "### Уравнения"
   ]
  },
  {
   "cell_type": "markdown",
   "metadata": {},
   "source": [
    "Уравнение неразрывности\n",
    "\n",
    "$$\n",
    "\\begin{equation}\n",
    "\\frac{\\partial r_{\\alpha}}{\\partial t} + \\nabla \\cdot \\left( r_{\\alpha} \\vec{v}_{\\alpha} \\right) = j_{\\beta \\rightarrow \\alpha}\n",
    "\\end{equation}\n",
    "$$"
   ]
  },
  {
   "cell_type": "markdown",
   "metadata": {},
   "source": [
    "$$\n",
    "\n",
    "\\begin{gathered}\n",
    "\n",
    "\\frac{\\partial r_{S}}{\\partial t} + \\nabla \\cdot \\left( r_{S} \\vec{v}_{S} \\right) = 0\n",
    "\\\\\n",
    "\\frac{\\partial r_{L}}{\\partial t} + \\nabla \\cdot \\left( r_{L} \\vec{v}_{S} \\right) = - j_{L \\rightarrow (CaCl_2)} - j_{L \\rightarrow W} - j_{L \\rightarrow G}\n",
    "\\\\\n",
    "\\frac{\\partial r_{D}}{\\partial t} + \\nabla \\cdot \\left( r_{D} \\vec{v}_{S} \\right) = - j_{D \\rightarrow (MgCl_2)} - j_{D \\rightarrow W} - j_{D \\rightarrow G}\n",
    "\\\\\n",
    "\\frac{\\partial r_{W}}{\\partial t} + \\nabla \\cdot \\left( r_{W} \\vec{v}_{W} \\right) = j_{L \\rightarrow W} + j_{D \\rightarrow W}\n",
    "\\\\\n",
    "\\frac{\\partial r_{(HCl)}}{\\partial t} + \\nabla \\cdot \\left( r_{(HCl)} \\vec{v}_{W} \\right) = - j_{(HCl) \\rightarrow (CaCl_2)} - j_{(HCl) \\rightarrow (MgCl_2)}\n",
    "\\\\\n",
    "\\frac{\\partial r_{(CaCl_2)}}{\\partial t} + \\nabla \\cdot \\left( r_{(CaCl_2)} \\vec{v}_{W} \\right) = j_{L \\rightarrow (CaCl_2)} + j_{D \\rightarrow (CaCl_2)} + j_{(HCl) \\rightarrow (CaCl_2)}\n",
    "\\\\\n",
    "\\frac{\\partial r_{(MgCl_2)}}{\\partial t} + \\nabla \\cdot \\left( r_{(MgCl_2)} \\vec{v}_{W} \\right) = j_{D \\rightarrow (MgCl_2)} + j_{(HCl) \\rightarrow (MgCl_2)}\n",
    "\\\\\n",
    "\\frac{\\partial r_{G}}{\\partial t} + \\nabla \\cdot \\left( r_{G} \\vec{v}_{W} \\right) = j_{L \\rightarrow G} + j_{D \\rightarrow G}\n",
    "\\\\\n",
    "\\frac{\\partial r_{O}}{\\partial t} + \\nabla \\cdot \\left( r_{O} \\vec{v}_{W} \\right) = 0\n",
    "\\\\\n",
    "\\end{gathered}\n",
    "\n",
    "$$"
   ]
  },
  {
   "cell_type": "markdown",
   "metadata": {},
   "source": [
    "Для расчета скоростей образования массовой компаненты одного континуума из другого в единиче объема $j$ требуются уравнения кинетики хим. реакции. Из курса физ. химии для растворов и газов справедливо следующее:\n",
    "\n",
    "$$\n",
    "\\begin{gathered}\n",
    "a A + b B \\rightarrow c AB\n",
    "\\\\\n",
    "r = - \\frac{1}{V} \\frac{1}{a} \\frac{d n_A}{dt} = -\\frac{d[A]}{dt} - \\frac{[A]}{V} \\frac{dV}{dt} = k [A]^{\\alpha} [B]^{\\beta}\n",
    "\\end{gathered}\n",
    "$$"
   ]
  },
  {
   "cell_type": "markdown",
   "metadata": {},
   "source": []
  }
 ],
 "metadata": {
  "kernelspec": {
   "display_name": "Python 3",
   "language": "python",
   "name": "python3"
  },
  "language_info": {
   "name": "python",
   "version": "3.12.2"
  }
 },
 "nbformat": 4,
 "nbformat_minor": 2
}
