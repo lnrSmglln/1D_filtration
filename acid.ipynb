{
 "cells": [
  {
   "cell_type": "markdown",
   "metadata": {},
   "source": [
    "# Моделирование процесса закачки кислотного раствора в нефтенасыщенный карбонатный пласт"
   ]
  },
  {
   "cell_type": "markdown",
   "metadata": {},
   "source": [
    "## Теория"
   ]
  },
  {
   "cell_type": "markdown",
   "metadata": {},
   "source": [
    "Химические реакции протекающих процессов:\n",
    "\n",
    "$$\n",
    "\\text{CaCO}_3 + 2 \\text{HCl} \\rightarrow \\text{CaCl}_2 + \\text{H}_2\\text{O} + \\text{CO}_2\n",
    "$$\n",
    "\n",
    "$$\n",
    "\\text{CaMg}(\\text{CO}_3)_2 + 4\\text{HCl} \\rightarrow \\text{CaCl}_2 + \\text{MgCl}_2 + 2\\text{H}_2\\text{O} + 2\\text{CO}_2\n",
    "$$"
   ]
  },
  {
   "cell_type": "markdown",
   "metadata": {},
   "source": [
    "Рассмотрим далее реакцию с известняком (кальцитом):\n",
    "\n",
    "$$\n",
    "\\begin{gathered}\n",
    "\\text{CaCO}_3 + 2 \\text{HCl} \\rightarrow \\text{CaCl}_2 + \\text{H}_2\\text{O} + \\text{CO}_2\n",
    "\\\\\n",
    "1 \\hspace{1.18cm} 2 \\hspace{1.15cm} 3 \\hspace{1.12cm} 4 \\hspace{0.9cm} 5\n",
    "\\end{gathered}\n",
    "$$"
   ]
  },
  {
   "cell_type": "markdown",
   "metadata": {},
   "source": [
    "Допущения:\n",
    "1. Горная порода и флюиды несжимаемы\n",
    "2. Весь выделяющийся газ растворяется в воде\n",
    "3. Вся выделяющаяся соль растворяется в воде\n",
    "4. Процесс изотермический\n",
    "5. Гравитационные эффекты не учитываются (1-мерная постановка)\n",
    "6. Капиллярного давления нет, но некоторые эффекты могут быть неявно учтены в ОФП\n",
    "7. ..."
   ]
  },
  {
   "cell_type": "markdown",
   "metadata": {},
   "source": [
    "### Уравнения"
   ]
  },
  {
   "cell_type": "markdown",
   "metadata": {},
   "source": [
    "#### Уравнения неразрывности"
   ]
  },
  {
   "cell_type": "markdown",
   "metadata": {},
   "source": [
    "$$\n",
    "\\begin{equation}\n",
    "\\begin{gathered}\n",
    "\n",
    "\\frac{\\partial \\phi}{\\partial t} = \\frac{\\chi_1}{\\rho_1} J\n",
    "\\\\\n",
    "\\frac{\\partial c_2 \\phi S}{\\partial t} + \\vec{W} \\cdot \\nabla \\left( c_2 b \\right) = - \\frac{\\chi_2}{\\rho_2} J\n",
    "\\\\\n",
    "\\frac{\\partial c_3 \\phi S}{\\partial t} + \\vec{W} \\cdot \\nabla \\left( c_3 b \\right) = \\frac{\\chi_3}{\\rho_3} J\n",
    "\\\\\n",
    "\\frac{\\partial c_4 \\phi S}{\\partial t} + \\vec{W} \\cdot \\nabla \\left( c_4 b \\right) = \\frac{\\chi_4}{\\rho_4} J\n",
    "\\\\\n",
    "\\frac{\\partial c_5 \\phi S}{\\partial t} + \\vec{W} \\cdot \\nabla \\left( c_5 b\\right) = \\frac{\\chi_5}{\\rho_5} J\n",
    "\\\\\n",
    "\\chi_1 + \\chi_2 - \\chi_3 - \\chi_4 - \\chi_5 = 0\n",
    "\\\\\n",
    "c_2 + c_3 + c_4 + c_5 = 1\n",
    "\\\\\n",
    "\\frac{\\partial \\phi (1 - S)}{\\partial t} + \\vec{W} \\cdot \\nabla \\left( 1 - b \\right) = 0\n",
    "\n",
    "\\end{gathered}\n",
    "\\end{equation}\n",
    "$$\n",
    "\n",
    "где $\\phi$ — пористость, \\\n",
    "$\\chi_i$ — стехиометрический коэффициент, \\\n",
    "$S$ — водонасыщенность, \\\n",
    "$\\vec{W}$ — вектор суммарной фильтрации, \\\n",
    "$b = b(S)$ — функция Баклея-Леверетта, \\\n",
    "$c_i$ — массовая концентрация $i$-го компонента в водной фазе, \\\n",
    "$J = J(S,\\phi,c_2)$ — масса кислоты, прореагирующей за единицу времени в единице объема.\n"
   ]
  },
  {
   "cell_type": "markdown",
   "metadata": {},
   "source": [
    "#### Кинетика реакции"
   ]
  },
  {
   "cell_type": "markdown",
   "metadata": {},
   "source": [
    "$$\n",
    "J = \\frac{1}{2} \\cdot S \\cdot A \\cdot \\sigma (c_2 - c_{eq})^n\n",
    "$$\n",
    "\n",
    "где $A = A(\\phi)$ — удельная поверхность породы, \\\n",
    "$\\sigma$ — константа поверхностной скорости реакции, \\\n",
    "$c_{eq}$ — равновесная массовая концентрация кислоты, \\\n",
    "$n$ — показатель реакции по кислоте"
   ]
  },
  {
   "cell_type": "markdown",
   "metadata": {},
   "source": [
    "#### Определяющие уравнения для горной породы"
   ]
  },
  {
   "cell_type": "markdown",
   "metadata": {},
   "source": [
    "$$ \\begin{gathered}\n",
    "A(\\phi) = A_0 \\frac{(1-\\phi)}{(1-\\phi_0)}\n",
    "\\hspace{1 cm}\n",
    "k(\\phi) = k_0 \\left( \\frac{\\phi}{\\phi_0} \\right) ^ m\n",
    "\\end {gathered}$$"
   ]
  },
  {
   "cell_type": "markdown",
   "metadata": {},
   "source": [
    "#### Итого в одномерном радиальном случае"
   ]
  },
  {
   "cell_type": "markdown",
   "metadata": {},
   "source": [
    "$$\n",
    "\\begin{equation}\n",
    "\\begin{gathered}\n",
    "\n",
    "\\frac{\\partial \\phi}{\\partial t} = \\frac{\\chi_1}{\\rho_1} J\n",
    "\\\\\n",
    "\\frac{\\partial c_2 \\phi S}{\\partial t} + W \\frac{\\partial \\left( c_2 b \\right)}{\\partial r} = - \\frac{\\chi_2}{\\rho_2} J\n",
    "\\\\\n",
    "\\frac{\\partial c_3 \\phi S}{\\partial t} + W \\frac{\\partial \\left( c_3 b \\right)}{\\partial r} = \\frac{\\chi_3}{\\rho_3} J\n",
    "\\\\\n",
    "\\frac{\\partial c_4 \\phi S}{\\partial t} + W \\frac{\\partial \\left( c_4 b \\right)}{\\partial r} = \\frac{\\chi_4}{\\rho_4} J\n",
    "\\\\\n",
    "\\frac{\\partial c_5 \\phi S}{\\partial t} + W \\frac{\\partial \\left( c_5 b\\right)}{\\partial r} = \\frac{\\chi_5}{\\rho_5} J\n",
    "\\\\\n",
    "c_2 + c_3 + c_4 + c_5 = 1\n",
    "\\\\\n",
    "\\frac{\\partial \\phi (1 - S)}{\\partial t} + W \\frac{\\partial \\left( 1 - b \\right)}{\\partial r} = 0\n",
    "\\\\\n",
    "J = S (1-\\phi) (c_2 - c_{eq})^n \\frac{A_0 \\sigma}{2(1-\\phi_0)} \n",
    "\n",
    "\\end{gathered}\n",
    "\\end{equation}\n",
    "$$\n",
    "\n",
    "где $W = \\frac{Q}{2\\pi r h}$ — суммарная фильтрация."
   ]
  },
  {
   "cell_type": "markdown",
   "metadata": {},
   "source": [
    "**Итого**\n",
    "\n",
    "5 неизвестных: $\\phi, S, c_2, c_3, c_4$ \\\n",
    "6 уравнений: $(1)$"
   ]
  },
  {
   "cell_type": "markdown",
   "metadata": {},
   "source": [
    "**Для реакции с кальцитом:**"
   ]
  },
  {
   "cell_type": "markdown",
   "metadata": {},
   "source": [
    "$$\n",
    "\\begin{gathered}\n",
    "\n",
    "\\frac{\\partial \\phi}{\\partial t} = \\frac{1}{\\rho_1} J\n",
    "\\\\\n",
    "\\frac{\\partial c_2 \\phi S}{\\partial t} + W \\frac{\\partial \\left( c_2 b \\right)}{\\partial r} = - \\frac{2}{\\rho_2} J\n",
    "\\\\\n",
    "\\frac{\\partial c_3 \\phi S}{\\partial t} + W \\frac{\\partial \\left( c_3 b \\right)}{\\partial r} = \\frac{1}{\\rho_3} J\n",
    "\\\\\n",
    "\\frac{\\partial c_4 \\phi S}{\\partial t} + W \\frac{\\partial \\left( c_4 b \\right)}{\\partial r} = \\frac{1}{\\rho_4} J\n",
    "\\\\\n",
    "\\frac{\\partial c_5 \\phi S}{\\partial t} + W \\frac{\\partial \\left( c_5 b\\right)}{\\partial r} = \\frac{1}{\\rho_5} J\n",
    "\\\\\n",
    "c_2 + c_3 + c_4 + c_5 = 1\n",
    "\\\\\n",
    "\\frac{\\partial \\phi (1 - S)}{\\partial t} + W \\frac{\\partial \\left( 1 - b \\right)}{\\partial r} = 0\n",
    "\\\\\n",
    "J = S (1-\\phi) (c_2 - c_{eq})^n \\frac{A_0 \\sigma}{2(1-\\phi_0)} \n",
    "\n",
    "\\end{gathered}\n",
    "$$"
   ]
  },
  {
   "cell_type": "markdown",
   "metadata": {},
   "source": []
  }
 ],
 "metadata": {
  "kernelspec": {
   "display_name": "Python 3",
   "language": "python",
   "name": "python3"
  },
  "language_info": {
   "name": "python",
   "version": "3.12.2"
  }
 },
 "nbformat": 4,
 "nbformat_minor": 2
}
