{
  "cells": [
    {
      "cell_type": "markdown",
      "metadata": {
        "id": "tu-BT5uTvWVK"
      },
      "source": [
        "# Одномерная фильтрация"
      ]
    },
    {
      "cell_type": "markdown",
      "metadata": {
        "id": "EFHp9h-pvi8i"
      },
      "source": [
        "## Однофазная фильтрация несжимаемой жидкости"
      ]
    },
    {
      "cell_type": "markdown",
      "metadata": {},
      "source": [
        "### Уравнения"
      ]
    },
    {
      "cell_type": "markdown",
      "metadata": {
        "id": "O3EX0YMIvl6k"
      },
      "source": [
        "Уравнения неразрывности и движения для однофазного потока в неупругой пористой среде\n",
        "$$ \\begin{cases}\n",
        "\\frac{\\partial \\rho}{\\partial t} + \\nabla \\cdot (\\rho \\vec{v}) = 0 \\\\\n",
        "v = -\\frac{k}{\\mu} \\nabla P \\\\\n",
        "\\end{cases} $$"
      ]
    },
    {
      "cell_type": "markdown",
      "metadata": {
        "id": "ccvUpatvwitQ"
      },
      "source": [
        "Пусть $\\rho = const$\n",
        "\n",
        "$$ \\begin{cases}\n",
        "\\nabla \\cdot  \\vec{v} = 0 \\\\\n",
        "\\vec{v} = -\\frac{k}{\\mu} \\nabla P \\\\\n",
        "\\end{cases} $$"
      ]
    },
    {
      "cell_type": "markdown",
      "metadata": {
        "id": "s5O-XiaXvmHn"
      },
      "source": [
        "Пусть поток одномерен\n",
        "\n",
        "$$ \\begin{cases}\n",
        "\\frac{\\partial v}{\\partial x} = 0 \\\\\n",
        "v = -\\frac{k}{\\mu} \\frac{\\partial P}{\\partial x} \\\\\n",
        "\\end{cases} $$"
      ]
    },
    {
      "cell_type": "markdown",
      "metadata": {},
      "source": [
        "### Численное решение"
      ]
    },
    {
      "cell_type": "markdown",
      "metadata": {
        "id": "j-A2fc8YvmOe"
      },
      "source": [
        "Дискретизируем методом конечных разностей\n",
        "\n",
        "$$ \\begin{cases}\n",
        "\\frac{v_{i+1} - v_{i}}{h} = 0 \\\\\n",
        "v_i = -\\frac{k}{\\mu} \\frac{P_{i+1} - P_{i}}{h} \\\\\n",
        "\\end{cases} $$\n",
        "\n",
        "Из первого уравнения следует\n",
        "\n",
        "$$ P_{i-1} - 2P_{i} + P_{i+1} = 0 $$\n",
        "\n",
        "Задача сводится к нахождению поля давления"
      ]
    },
    {
      "cell_type": "markdown",
      "metadata": {},
      "source": [
        "![Расчетная сетка](grid1d.png)"
      ]
    },
    {
      "cell_type": "markdown",
      "metadata": {},
      "source": [
        "Пусть расчетная область состоит из 5-и узловых точек, в первой и последней задаются граничные условия в виде давления, тогда система примет вид\n",
        "\n",
        "$$\n",
        "\\begin{pmatrix}\n",
        "-2 &  1 &  0 \\\\\n",
        "1  & -2 &  1 \\\\\n",
        "0  &  1 & -2 \\\\\n",
        "\\end{pmatrix} \n",
        "\\cdot\n",
        "\\begin{pmatrix}\n",
        "P_1 \\\\\n",
        "P_2 \\\\\n",
        "P_3 \\\\\n",
        "\\end{pmatrix}\n",
        "=\n",
        "\\begin{pmatrix}\n",
        "-P_0 \\\\\n",
        "0 \\\\\n",
        "-P_4 \\\\\n",
        "\\end{pmatrix}\n",
        "\n",
        "$$\n",
        "$$\n",
        "\\textbf{Ax} = \\textbf{B}\n",
        "$$"
      ]
    },
    {
      "cell_type": "code",
      "execution_count": 101,
      "metadata": {},
      "outputs": [],
      "source": [
        "import numpy as np\n",
        "\n",
        "# Кол-во узловых точек\n",
        "n = 10\n",
        "\n",
        "# Длина расчетной области\n",
        "L = 2\n",
        "\n",
        "# Граничные условия (начало и конец расчетной области)\n",
        "P0 = 2\n",
        "Pn = 1\n",
        "\n",
        "A = np.zeros([n-2, n-2])\n",
        "for i in range(n-2):\n",
        "    A[i][i] = -2\n",
        "    if i < n-3:\n",
        "        A[i][i+1] = 1\n",
        "    if i > 0:\n",
        "        A[i][i-1] = 1\n",
        "\n",
        "B = np.zeros(n - 2)\n",
        "B[0], B[-1] = -P0, -Pn"
      ]
    },
    {
      "cell_type": "code",
      "execution_count": 102,
      "metadata": {},
      "outputs": [
        {
          "data": {
            "text/plain": [
              "(array([2.        , 1.88888889, 1.77777778, 1.66666667, 1.55555556,\n",
              "        1.44444444, 1.33333333, 1.22222222, 1.11111111, 1.        ]),\n",
              " array([0.        , 0.22222222, 0.44444444, 0.66666667, 0.88888889,\n",
              "        1.11111111, 1.33333333, 1.55555556, 1.77777778, 2.        ]))"
            ]
          },
          "execution_count": 102,
          "metadata": {},
          "output_type": "execute_result"
        }
      ],
      "source": [
        "P_solve = np.linalg.solve(A, B)\n",
        "P = np.zeros(n)\n",
        "\n",
        "x = np.arange(0, L + L/n , L/(n - 1))\n",
        "\n",
        "P[0] = P0\n",
        "P[-1] = Pn\n",
        "P[1:-1] = P_solve\n",
        "P, x"
      ]
    },
    {
      "cell_type": "code",
      "execution_count": 103,
      "metadata": {},
      "outputs": [
        {
          "data": {
            "image/png": "[encoded data removed]",
            "text/plain": [
              "<Figure size 640x480 with 1 Axes>"
            ]
          },
          "metadata": {},
          "output_type": "display_data"
        }
      ],
      "source": [
        "# import plotly.express as px\n",
        "import matplotlib.pyplot as plt\n",
        "\n",
        "plt.plot(x, P, marker='o')\n",
        "plt.show()"
      ]
    },
    {
      "cell_type": "markdown",
      "metadata": {},
      "source": [
        "## Однофазная фильтрация сжимаемой жидкости"
      ]
    },
    {
      "cell_type": "markdown",
      "metadata": {},
      "source": [
        "### Уравнения"
      ]
    },
    {
      "cell_type": "markdown",
      "metadata": {},
      "source": [
        "Уравнения неразрывности и движения для однофазного потока в неупругой пористой среде\n",
        "$$ \\begin{cases}\n",
        "\\frac{\\partial \\rho}{\\partial t} + \\nabla \\cdot (\\rho \\vec{v}) = 0 \\\\\n",
        "v = -\\frac{k}{\\mu} \\nabla P \\\\\n",
        "\\rho = f(P)\\\\\n",
        "\\end{cases} $$"
      ]
    }
  ],
  "metadata": {
    "colab": {
      "provenance": []
    },
    "kernelspec": {
      "display_name": "Python 3",
      "name": "python3"
    },
    "language_info": {
      "codemirror_mode": {
        "name": "ipython",
        "version": 3
      },
      "file_extension": ".py",
      "mimetype": "text/x-python",
      "name": "python",
      "nbconvert_exporter": "python",
      "pygments_lexer": "ipython3",
      "version": "3.12.2"
    }
  },
  "nbformat": 4,
  "nbformat_minor": 0
}
