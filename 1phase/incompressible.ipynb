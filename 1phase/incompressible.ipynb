{
  "cells": [
    {
      "cell_type": "markdown",
      "metadata": {
        "id": "tu-BT5uTvWVK"
      },
      "source": [
        "# Одномерная фильтрация"
      ]
    },
    {
      "cell_type": "markdown",
      "metadata": {
        "id": "EFHp9h-pvi8i"
      },
      "source": [
        "## Однофазная фильтрация несжимаемой жидкости"
      ]
    },
    {
      "cell_type": "markdown",
      "metadata": {},
      "source": [
        "### Уравнения"
      ]
    },
    {
      "cell_type": "markdown",
      "metadata": {
        "id": "O3EX0YMIvl6k"
      },
      "source": [
        "Уравнения неразрывности и движения для однофазного потока в неупругой пористой среде\n",
        "$$ \\begin{cases}\n",
        "\\frac{\\partial \\rho}{\\partial t} + \\nabla \\cdot (\\rho \\vec{v}) = 0 \\\\\n",
        "\\vec{v} = -\\frac{k}{\\mu} \\nabla P \\\\\n",
        "\\end{cases} $$"
      ]
    },
    {
      "cell_type": "markdown",
      "metadata": {
        "id": "ccvUpatvwitQ"
      },
      "source": [
        "Пусть $\\rho = const$\n",
        "\n",
        "$$ \\begin{cases}\n",
        "\\nabla \\cdot  \\vec{v} = 0 \\\\\n",
        "\\vec{v} = -\\frac{k}{\\mu} \\nabla P \\\\\n",
        "\\end{cases} $$"
      ]
    },
    {
      "cell_type": "markdown",
      "metadata": {
        "id": "s5O-XiaXvmHn"
      },
      "source": [
        "Пусть поток одномерен\n",
        "\n",
        "$$ \\begin{cases}\n",
        "\\frac{d v}{d x} = 0 \\\\\n",
        "v = -\\frac{k}{\\mu} \\frac{d P}{d x} \\\\\n",
        "\\end{cases} $$"
      ]
    },
    {
      "cell_type": "markdown",
      "metadata": {},
      "source": [
        "### Численное решение"
      ]
    },
    {
      "cell_type": "markdown",
      "metadata": {
        "id": "j-A2fc8YvmOe"
      },
      "source": [
        "Дискретизируем методом конечных разностей\n",
        "\n",
        "$$ \\begin{cases}\n",
        "\\frac{v_{i+1} - v_{i}}{h} = 0 \\\\\n",
        "v_i = -\\frac{k}{\\mu} \\frac{P_{i+1} - P_{i}}{h} \\\\\n",
        "\\end{cases} $$\n",
        "\n",
        "Из первого уравнения следует\n",
        "\n",
        "$$ P_{i-1} - 2P_{i} + P_{i+1} = 0 $$\n",
        "\n",
        "Задача сводится к нахождению поля давления"
      ]
    },
    {
      "cell_type": "markdown",
      "metadata": {},
      "source": [
        "![Разностная сетка](../data/grid1d.png)"
      ]
    },
    {
      "cell_type": "markdown",
      "metadata": {},
      "source": [
        "Пусть расчетная область состоит из 5-и узловых точек, в первой и последней задаются граничные условия в виде давления, тогда система примет вид\n",
        "\n",
        "$$\n",
        "\\begin{pmatrix}\n",
        "-2 &  1 &  0 \\\\\n",
        "1  & -2 &  1 \\\\\n",
        "0  &  1 & -2 \\\\\n",
        "\\end{pmatrix} \n",
        "\\cdot\n",
        "\\begin{pmatrix}\n",
        "P_1 \\\\\n",
        "P_2 \\\\\n",
        "P_3 \\\\\n",
        "\\end{pmatrix}\n",
        "=\n",
        "\\begin{pmatrix}\n",
        "-P_0 \\\\\n",
        "0 \\\\\n",
        "-P_4 \\\\\n",
        "\\end{pmatrix}\n",
        "\n",
        "$$\n",
        "$$\n",
        "\\textbf{Ax} = \\textbf{B}\n",
        "$$"
      ]
    },
    {
      "cell_type": "code",
      "execution_count": 1,
      "metadata": {},
      "outputs": [
        {
          "data": {
            "text/plain": [
              "'\\nIf you are using Google Colab, uncomment the next line to download `SLAU.py` !!!\\n'"
            ]
          },
          "execution_count": 1,
          "metadata": {},
          "output_type": "execute_result"
        }
      ],
      "source": [
        "'''\n",
        "If you are using Google Colab, uncomment the next line to download `SLAU.py` !!!\n",
        "'''\n",
        "# !wget -P /crc/ https://raw.githubusercontent.com/lnrsmglln/1D_filtration/main/SLAU.py"
      ]
    },
    {
      "cell_type": "code",
      "execution_count": 2,
      "metadata": {},
      "outputs": [],
      "source": [
        "%load_ext autoreload\n",
        "%autoreload 2\n",
        "\n",
        "import sys\n",
        "if \"..\" not in sys.path:\n",
        "    sys.path.insert(0, \"..\")\n",
        "from src import SLAU\n",
        "\n",
        "import numpy as np\n",
        "import matplotlib.pyplot as plt"
      ]
    },
    {
      "cell_type": "code",
      "execution_count": 3,
      "metadata": {},
      "outputs": [
        {
          "data": {
            "text/plain": [
              "array([[-2.,  1.,  0.],\n",
              "       [ 1., -2.,  1.],\n",
              "       [ 0.,  1., -2.]])"
            ]
          },
          "execution_count": 3,
          "metadata": {},
          "output_type": "execute_result"
        }
      ],
      "source": [
        "# Кол-во узловых точек\n",
        "n = 5\n",
        "\n",
        "# Длина расчетной области\n",
        "L = 2\n",
        "\n",
        "# Граничные условия (начало и конец расчетной области)\n",
        "P0 = 2\n",
        "Pn = 1\n",
        "\n",
        "A = np.zeros([n-2, n-2])\n",
        "for i in range(n-2):\n",
        "    A[i][i] = -2\n",
        "    if i < n-3:\n",
        "        A[i][i+1] = 1\n",
        "    if i > 0:\n",
        "        A[i][i-1] = 1\n",
        "\n",
        "B = np.zeros(n - 2)\n",
        "B[0], B[-1] = -P0, -Pn\n",
        "\n",
        "A"
      ]
    },
    {
      "cell_type": "code",
      "execution_count": 4,
      "metadata": {},
      "outputs": [],
      "source": [
        "c = 2 * np.ones(n-2)\n",
        "a = b = np.ones(n-3)\n",
        "f = np.zeros_like(c)\n",
        "f[0] = P0\n",
        "f[-1] = Pn\n",
        "\n",
        "P_solve = SLAU.tridiagonal_solve(a, b, c, f)"
      ]
    },
    {
      "cell_type": "code",
      "execution_count": 5,
      "metadata": {},
      "outputs": [
        {
          "data": {
            "text/plain": [
              "array([0.00000000e+00, 2.22044605e-16, 0.00000000e+00])"
            ]
          },
          "execution_count": 5,
          "metadata": {},
          "output_type": "execute_result"
        }
      ],
      "source": [
        "P = np.zeros(n)\n",
        "\n",
        "x = np.arange(0, L + L/n , L/(n - 1))\n",
        "\n",
        "P[0] = P0\n",
        "P[-1] = Pn\n",
        "P[1:-1] = P_solve\n",
        "\n",
        "P_numpy_solve = np.linalg.solve(A, B)\n",
        "P_numpy_solve - P_solve"
      ]
    },
    {
      "cell_type": "code",
      "execution_count": 6,
      "metadata": {},
      "outputs": [
        {
          "data": {
            "image/png": "[encoded data removed]",
            "text/plain": [
              "<Figure size 640x480 with 1 Axes>"
            ]
          },
          "metadata": {},
          "output_type": "display_data"
        }
      ],
      "source": [
        "plt.plot(x, P, marker='o')\n",
        "plt.show()"
      ]
    }
  ],
  "metadata": {
    "colab": {
      "provenance": []
    },
    "kernelspec": {
      "display_name": "Python 3",
      "name": "python3"
    },
    "language_info": {
      "codemirror_mode": {
        "name": "ipython",
        "version": 3
      },
      "file_extension": ".py",
      "mimetype": "text/x-python",
      "name": "python",
      "nbconvert_exporter": "python",
      "pygments_lexer": "ipython3",
      "version": "3.12.2"
    }
  },
  "nbformat": 4,
  "nbformat_minor": 0
}
